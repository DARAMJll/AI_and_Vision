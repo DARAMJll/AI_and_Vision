{
 "cells": [
  {
   "cell_type": "code",
   "execution_count": 1,
   "id": "3fb6fd7e",
   "metadata": {},
   "outputs": [],
   "source": [
    "import cv2\n",
    "import numpy as np"
   ]
  },
  {
   "cell_type": "code",
   "execution_count": 3,
   "id": "c0392cce",
   "metadata": {},
   "outputs": [],
   "source": [
    "src = cv2.imread('./data/morphology.jpg', cv2.IMREAD_GRAYSCALE)\n",
    "kernel = cv2.getStructuringElement(shape = cv2.MORPH_RECT, ksize = (3,3))\n",
    "erode = cv2.erode(src, kernel, iterations = 5)\n",
    "dilate = cv2.dilate(src, kernel, iterations = 5)\n",
    "erode2 = cv2.erode(src, kernel, iterations = 7)\n",
    "\n",
    "cv2.imshow('src', src)\n",
    "cv2.imshow('erode', erode)\n",
    "\n",
    "cv2.imshow('dilate', dilate)\n",
    "cv2.imshow('erode2', erode2)\n",
    "\n",
    "cv2.waitKey()\n",
    "cv2.destroyAllWindows()\n"
   ]
  },
  {
   "cell_type": "code",
   "execution_count": 4,
   "id": "f393052b",
   "metadata": {},
   "outputs": [],
   "source": [
    "src = cv2.imread('./data/morphology.jpg', cv2.IMREAD_GRAYSCALE)\n",
    "kernel = cv2.getStructuringElement(shape = cv2.MORPH_RECT, ksize = (3,3))\n",
    "closing = cv2.morphologyEx(src, cv2.MORPH_CLOSE, kernel, iterations = 5)\n",
    "opening = cv2.morphologyEx(closing, cv2.MORPH_OPEN, kernel, iterations = 5)\n",
    "gradient = cv2.morphologyEx(opening, cv2.MORPH_GRADIENT, kernel)\n",
    "\n",
    "tophat = cv2.morphologyEx(src, cv2.MORPH_TOPHAT, kernel, iterations = 5)\n",
    "blackhat = cv2.morphologyEx(src, cv2.MORPH_BLACKHAT, kernel, iterations = 5)\n",
    "\n",
    "cv2.imshow('opening', opening)\n",
    "cv2.imshow('closing', closing)\n",
    "cv2.imshow('gradient', gradient)\n",
    "cv2.imshow('tophat', tophat)\n",
    "cv2.imshow('blackhat', blackhat)\n",
    "\n",
    "cv2.waitKey()\n",
    "cv2.destroyAllWindows()"
   ]
  },
  {
   "cell_type": "code",
   "execution_count": null,
   "id": "e25a19da",
   "metadata": {},
   "outputs": [],
   "source": []
  }
 ],
 "metadata": {
  "kernelspec": {
   "display_name": "Python 3 (ipykernel)",
   "language": "python",
   "name": "python3"
  },
  "language_info": {
   "codemirror_mode": {
    "name": "ipython",
    "version": 3
   },
   "file_extension": ".py",
   "mimetype": "text/x-python",
   "name": "python",
   "nbconvert_exporter": "python",
   "pygments_lexer": "ipython3",
   "version": "3.11.5"
  }
 },
 "nbformat": 4,
 "nbformat_minor": 5
}
