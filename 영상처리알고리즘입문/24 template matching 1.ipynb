{
 "cells": [
  {
   "cell_type": "code",
   "execution_count": 1,
   "id": "044bc3d9",
   "metadata": {},
   "outputs": [],
   "source": [
    "import cv2\n",
    "import numpy as np"
   ]
  },
  {
   "cell_type": "code",
   "execution_count": 2,
   "id": "88153fd8",
   "metadata": {},
   "outputs": [],
   "source": [
    "src = cv2.imread('./data/circuit.bmp', cv2.IMREAD_GRAYSCALE)\n",
    "tmp = cv2.imread('./data/circuit_tmp.bmp', cv2.IMREAD_GRAYSCALE)\n",
    "dst = cv2.cvtColor(src, cv2.COLOR_GRAY2BGR)\n",
    "\n",
    "R1 = cv2.matchTemplate(src, tmp, cv2.TM_SQDIFF_NORMED)\n",
    "minVal, _, minLoc, _ = cv2.minMaxLoc(R1)\n",
    "\n",
    "w, h = tmp.shape[:2]\n",
    "cv2.rectangle(dst, minLoc, (minLoc[0]+h, minLoc[1]+w), (255,0,0),2)\n",
    "\n",
    "cv2.imshow('src', src)\n",
    "cv2.imshow('tmp', tmp)\n",
    "cv2.imshow('dst', dst)\n",
    "cv2.waitKey()\n",
    "cv2.destroyAllWindows()"
   ]
  },
  {
   "cell_type": "code",
   "execution_count": 4,
   "id": "54e5bc28",
   "metadata": {},
   "outputs": [],
   "source": [
    "src = cv2.imread('./data/circuit_modified.bmp', cv2.IMREAD_GRAYSCALE)\n",
    "tmp = cv2.imread('./data/circuit_tmp.bmp', cv2.IMREAD_GRAYSCALE)\n",
    "dst = cv2.cvtColor(src, cv2.COLOR_GRAY2BGR)\n",
    "\n",
    "R1 = cv2.matchTemplate(src, tmp, cv2.TM_SQDIFF_NORMED)\n",
    "minVal, maxVal, minLoc, maxLoc = cv2.minMaxLoc(R1)\n",
    "\n",
    "y, x = maxLoc[:2]\n",
    "w, h = tmp.shape[:2]\n",
    "cv2.rectangle(dst, (y, x), (y+h, x+w), (255, 0, 0), 2)\n",
    "\n",
    "cv2.imshow('dst',dst)\n",
    "cv2.waitKey()\n",
    "cv2.destroyAllWindows()"
   ]
  },
  {
   "cell_type": "code",
   "execution_count": null,
   "id": "152183da",
   "metadata": {},
   "outputs": [],
   "source": []
  }
 ],
 "metadata": {
  "kernelspec": {
   "display_name": "Python 3 (ipykernel)",
   "language": "python",
   "name": "python3"
  },
  "language_info": {
   "codemirror_mode": {
    "name": "ipython",
    "version": 3
   },
   "file_extension": ".py",
   "mimetype": "text/x-python",
   "name": "python",
   "nbconvert_exporter": "python",
   "pygments_lexer": "ipython3",
   "version": "3.11.5"
  }
 },
 "nbformat": 4,
 "nbformat_minor": 5
}
