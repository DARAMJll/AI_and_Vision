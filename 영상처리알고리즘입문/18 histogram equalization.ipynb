{
 "cells": [
  {
   "cell_type": "code",
   "execution_count": 2,
   "id": "3ac7b317",
   "metadata": {},
   "outputs": [],
   "source": [
    "import cv2\n",
    "import numpy as np\n",
    "from matplotlib import pyplot as plt"
   ]
  },
  {
   "cell_type": "code",
   "execution_count": 3,
   "id": "11429124",
   "metadata": {},
   "outputs": [],
   "source": [
    "src = np.array([[0,0,0,0],[1,1,3,5],[6,1,1,3],[4,3,1,7]], dtype = np.uint8)\n",
    "\n",
    "dst = cv2.equalizeHist(src)"
   ]
  },
  {
   "cell_type": "code",
   "execution_count": 4,
   "id": "85d0e1f7",
   "metadata": {},
   "outputs": [],
   "source": [
    "src = cv2.imread('./data/lena.jpg', cv2.IMREAD_GRAYSCALE)\n",
    "dst = cv2.equalizeHist(src)\n",
    "\n",
    "cv2.imshow('a', src)\n",
    "cv2.imshow('b', dst)\n",
    "cv2.waitKey()\n",
    "cv2.destroyAllWindows()"
   ]
  },
  {
   "cell_type": "code",
   "execution_count": null,
   "id": "800f47bb",
   "metadata": {},
   "outputs": [],
   "source": []
  }
 ],
 "metadata": {
  "kernelspec": {
   "display_name": "Python 3 (ipykernel)",
   "language": "python",
   "name": "python3"
  },
  "language_info": {
   "codemirror_mode": {
    "name": "ipython",
    "version": 3
   },
   "file_extension": ".py",
   "mimetype": "text/x-python",
   "name": "python",
   "nbconvert_exporter": "python",
   "pygments_lexer": "ipython3",
   "version": "3.11.5"
  }
 },
 "nbformat": 4,
 "nbformat_minor": 5
}
