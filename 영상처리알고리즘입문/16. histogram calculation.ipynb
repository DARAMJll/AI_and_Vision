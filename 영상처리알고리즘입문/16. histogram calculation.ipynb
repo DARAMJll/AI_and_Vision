{
 "cells": [
  {
   "cell_type": "code",
   "execution_count": 1,
   "id": "cb084b45",
   "metadata": {},
   "outputs": [],
   "source": [
    "import cv2\n",
    "import numpy as np\n",
    "from matplotlib import pyplot as plt"
   ]
  },
  {
   "cell_type": "code",
   "execution_count": 3,
   "id": "f350211e",
   "metadata": {},
   "outputs": [
    {
     "name": "stdout",
     "output_type": "stream",
     "text": [
      "hist1 =  [[9.]\n",
      " [3.]\n",
      " [2.]\n",
      " [2.]]\n",
      "(4, 1)\n",
      "hist2 =  [[4.]\n",
      " [5.]\n",
      " [0.]\n",
      " [3.]]\n",
      "(4, 1)\n"
     ]
    }
   ],
   "source": [
    "src = np.array([[0,0,0,0],[1,1,3,5],[6,1,1,3],[4,3,1,7]],dtype = np.uint8)\n",
    "\n",
    "hist1 = cv2.calcHist(images = [src], channels = [0], mask = None, histSize = [4], ranges = [0, 8])\n",
    "print('hist1 = ', hist1)\n",
    "print(hist1.shape)\n",
    "\n",
    "hist2 = cv2.calcHist(images = [src], channels = [0], mask = None, histSize = [4], ranges = [0, 4])\n",
    "print('hist2 = ', hist2)\n",
    "print(hist2.shape)\n"
   ]
  },
  {
   "cell_type": "code",
   "execution_count": null,
   "id": "48627e99",
   "metadata": {},
   "outputs": [],
   "source": []
  }
 ],
 "metadata": {
  "kernelspec": {
   "display_name": "Python 3 (ipykernel)",
   "language": "python",
   "name": "python3"
  },
  "language_info": {
   "codemirror_mode": {
    "name": "ipython",
    "version": 3
   },
   "file_extension": ".py",
   "mimetype": "text/x-python",
   "name": "python",
   "nbconvert_exporter": "python",
   "pygments_lexer": "ipython3",
   "version": "3.11.5"
  }
 },
 "nbformat": 4,
 "nbformat_minor": 5
}
