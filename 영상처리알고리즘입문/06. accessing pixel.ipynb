{
 "cells": [
  {
   "cell_type": "code",
   "execution_count": 1,
   "id": "2cad1308",
   "metadata": {},
   "outputs": [],
   "source": [
    "import cv2\n",
    "import numpy as np"
   ]
  },
  {
   "cell_type": "code",
   "execution_count": 2,
   "id": "a339f660",
   "metadata": {},
   "outputs": [
    {
     "name": "stdout",
     "output_type": "stream",
     "text": [
      "img.ndim =  3\n",
      "img.shpae =  (512, 512, 3)\n",
      "img.dtype =  uint8\n",
      "img.dtype =  int32\n",
      "img.dtype =  uint8\n"
     ]
    }
   ],
   "source": [
    "img = cv2.imread('./data/lena.jpg')\n",
    "\n",
    "print('img.ndim = ', img.ndim)\n",
    "print('img.shpae = ', img.shape)\n",
    "print('img.dtype = ', img.dtype)\n",
    "\n",
    "img = img.astype(np.int32)\n",
    "print('img.dtype = ', img.dtype)\n",
    "\n",
    "img = np.uint8(img)\n",
    "print('img.dtype = ', img.dtype)"
   ]
  },
  {
   "cell_type": "code",
   "execution_count": 3,
   "id": "940c9f83",
   "metadata": {},
   "outputs": [
    {
     "name": "stdout",
     "output_type": "stream",
     "text": [
      "img.shape =  (512, 512)\n",
      "img.shape =  (262144,)\n",
      "img.shape =  (512, 512)\n"
     ]
    }
   ],
   "source": [
    "img = cv2.imread('./data/lena.jpg', cv2.IMREAD_GRAYSCALE)\n",
    "print('img.shape = ', img.shape)\n",
    "\n",
    "img = img.flatten()\n",
    "print('img.shape = ', img.shape)\n",
    "\n",
    "img = img.reshape(512, 512)\n",
    "print('img.shape = ', img.shape)\n",
    "\n",
    "cv2.imshow('img', img)\n",
    "cv2.waitKey()\n",
    "cv2.destroyAllWindows()"
   ]
  },
  {
   "cell_type": "code",
   "execution_count": 5,
   "id": "54503fcd",
   "metadata": {},
   "outputs": [
    {
     "name": "stdout",
     "output_type": "stream",
     "text": [
      "[[ 50 143 145 132 147 144 142 139 132 138]\n",
      " [138 138 143 151 137 144 139 139 138 138]\n",
      " [132 139 153 140 133 136 143 138 137 128]\n",
      " [137 146 138 125 132 145 139 142 130 128]\n",
      " [149 139 130 137 140 145 136 133 132 141]\n",
      " [141 139 134 149 149 137 132 127 140 140]\n",
      " [142 148 139 142 144 138 146 135 131 130]\n",
      " [151 146 136 131 142 144 149 135 126 132]\n",
      " [147 131 135 138 147 139 128 125 134 138]\n",
      " [135 132 149 142 134 128 122 135 138 129]]\n"
     ]
    }
   ],
   "source": [
    "img = cv2.imread('./data/lena.jpg', cv2.IMREAD_GRAYSCALE)\n",
    "\n",
    "img[100, 200] = 50\n",
    "print(img[100:110, 200:210])"
   ]
  },
  {
   "cell_type": "code",
   "execution_count": 6,
   "id": "9b971e03",
   "metadata": {},
   "outputs": [],
   "source": [
    "img[100:400, 200:300] = 0\n",
    "\n",
    "cv2.imshow('img', img)\n",
    "cv2.waitKey()\n",
    "cv2.destroyAllWindows()"
   ]
  },
  {
   "cell_type": "code",
   "execution_count": 7,
   "id": "e1e135b1",
   "metadata": {},
   "outputs": [
    {
     "name": "stdout",
     "output_type": "stream",
     "text": [
      "[[255   0   0]\n",
      " [116 115 207]\n",
      " [120 116 211]\n",
      " [107 103 198]\n",
      " [119 121 209]\n",
      " [116 118 206]\n",
      " [115 114 206]\n",
      " [112 111 203]\n",
      " [104 105 195]\n",
      " [110 112 200]]\n"
     ]
    }
   ],
   "source": [
    "img = cv2.imread('./data/lena.jpg')\n",
    "img[100, 200] = [255, 0, 0] #ㅋ라라\n",
    "print(img[100, 200:210])"
   ]
  },
  {
   "cell_type": "code",
   "execution_count": 8,
   "id": "7afa13f7",
   "metadata": {},
   "outputs": [],
   "source": [
    "img[100:400, 200:300] = [255, 0, 0]\n",
    "\n",
    "cv2.imshow('img', img)\n",
    "cv2.waitKey()\n",
    "cv2.destroyAllWindows()"
   ]
  },
  {
   "cell_type": "code",
   "execution_count": 9,
   "id": "fd9e6c87",
   "metadata": {},
   "outputs": [],
   "source": [
    "img = cv2.imread('./data/lena.jpg')\n",
    "\n",
    "img[100:400, 200:300, 0] = 255\n",
    "img[100:400, 300:400, 1] = 255\n",
    "img[100:400, 400:500, 2] = 255\n",
    "\n",
    "cv2.imshow('img', img)\n",
    "cv2.waitKey()\n",
    "cv2.destroyAllWindows()"
   ]
  },
  {
   "cell_type": "code",
   "execution_count": null,
   "id": "64928f37",
   "metadata": {},
   "outputs": [],
   "source": []
  }
 ],
 "metadata": {
  "kernelspec": {
   "display_name": "Python 3 (ipykernel)",
   "language": "python",
   "name": "python3"
  },
  "language_info": {
   "codemirror_mode": {
    "name": "ipython",
    "version": 3
   },
   "file_extension": ".py",
   "mimetype": "text/x-python",
   "name": "python",
   "nbconvert_exporter": "python",
   "pygments_lexer": "ipython3",
   "version": "3.11.5"
  }
 },
 "nbformat": 4,
 "nbformat_minor": 5
}
