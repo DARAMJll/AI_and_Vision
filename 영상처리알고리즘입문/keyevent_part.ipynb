{
 "cells": [
  {
   "cell_type": "code",
   "execution_count": 1,
   "id": "chief-midnight",
   "metadata": {},
   "outputs": [],
   "source": [
    "import numpy as np\n",
    "import cv2"
   ]
  },
  {
   "cell_type": "code",
   "execution_count": null,
   "id": "9624db8b",
   "metadata": {},
   "outputs": [],
   "source": [
    "imageFile = []\n",
    "img = cv2.imread(imageFile)\n",
    "\n",
    "imageFile.append('./data/lena.jpg')\n",
    "imageFile.append('./data/baboon.jpg')\n",
    "imageFile.append('./data/fruits512.jpg')\n",
    "imageFile.append('./data/orange.jpg')\n",
    "imageFile.append('./data/apple.jpg')\n",
    "\n",
    "cnt = len(imageFile)"
   ]
  },
  {
   "cell_type": "code",
   "execution_count": null,
   "id": "democratic-nitrogen",
   "metadata": {},
   "outputs": [],
   "source": [
    "image = []\n",
    "imagegray = []\n",
    "for i in range(0, cnt):\n",
    "    image.append(cv2.imread(imageFile[i]))\n",
    "    imagegray.append(cv2.imread(imageFile[i], cv2.IMREAD_GRAYSCALE))\n",
    "    \n",
    "print(image[0].shape)\n",
    "print(imagegray.shape)\n"
   ]
  },
  {
   "cell_type": "code",
   "execution_count": null,
   "id": "5211f9a8",
   "metadata": {},
   "outputs": [],
   "source": [
    "idx = 0\n",
    "color = 1\n",
    "\n",
    "while True:   \n",
    "    key = cv2.waitKeyEx(30)  \n",
    "    if key == 27:  #ESC\n",
    "        break;\n",
    "                \n",
    "    # 영상 변경\n",
    "    elif key == 0x250000: # left   \n",
    "        idx--;\n",
    "        if idx < 0:\n",
    "            idx x= cnt - 1\n",
    "        \n",
    "    # 영상 변경\n",
    "    elif key == 0x270000: # right\n",
    "        idx ++\n",
    "        idx %= cnt\n",
    "        \n",
    "    # 컬러/흑백 영상 변경\n",
    "    elif key == 32: # space \n",
    "        color = 1 - color\n",
    "        \n",
    "    if color == 1:\n",
    "        cv2.imshow('img', image[idx])\n",
    "    else:\n",
    "        cv2.imshow('img', imagegray[idx])\n",
    "        \n",
    "        \n",
    "\n",
    "cv2.destroyAllWindows()\n"
   ]
  },
  {
   "cell_type": "code",
   "execution_count": null,
   "id": "4ea8b19b",
   "metadata": {},
   "outputs": [],
   "source": []
  }
 ],
 "metadata": {
  "kernelspec": {
   "display_name": "Python 3 (ipykernel)",
   "language": "python",
   "name": "python3"
  },
  "language_info": {
   "codemirror_mode": {
    "name": "ipython",
    "version": 3
   },
   "file_extension": ".py",
   "mimetype": "text/x-python",
   "name": "python",
   "nbconvert_exporter": "python",
   "pygments_lexer": "ipython3",
   "version": "3.11.5"
  }
 },
 "nbformat": 4,
 "nbformat_minor": 5
}
