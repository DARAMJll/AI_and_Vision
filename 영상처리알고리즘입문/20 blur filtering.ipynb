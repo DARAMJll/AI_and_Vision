{
 "cells": [
  {
   "cell_type": "code",
   "execution_count": 1,
   "id": "648afa3a",
   "metadata": {},
   "outputs": [],
   "source": [
    "import cv2\n",
    "import numpy as np"
   ]
  },
  {
   "cell_type": "code",
   "execution_count": 3,
   "id": "41d993b3",
   "metadata": {},
   "outputs": [],
   "source": [
    "src = cv2.imread('./data/lena.jpg', cv2.IMREAD_GRAYSCALE)\n",
    "\n",
    "dst1 = cv2.boxFilter(src, ddepth=-1,ksize=(11,11))\n",
    "dst2 = cv2.boxFilter(src, ddepth=-1,ksize=(21,21))\n",
    "\n",
    "cv2.imshow('src', src)\n",
    "cv2.imshow('dst1', dst1)\n",
    "cv2.imshow('dst2', dst2)\n",
    "\n",
    "cv2.waitKey()\n",
    "cv2.destroyAllWindows()"
   ]
  },
  {
   "cell_type": "code",
   "execution_count": 6,
   "id": "b19771f0",
   "metadata": {},
   "outputs": [],
   "source": [
    "src = cv2.imread('./data/lena.jpg', cv2.IMREAD_GRAYSCALE)\n",
    "\n",
    "dst1 = cv2.medianBlur(src, ksize = 7)\n",
    "dst2 = cv2.blur(src, ksize=(7,7))\n",
    "dst3 = cv2.GaussianBlur(src, ksize = (7,7), sigmaX=0.0)\n",
    "dst4 = cv2.GaussianBlur(src, ksize = (7,7), sigmaX=10.0)\n",
    "\n",
    "cv2.imshow('src', src)\n",
    "cv2.imshow('dst1', dst1)\n",
    "cv2.imshow('dst2', dst2)\n",
    "cv2.imshow('dst3', dst3)\n",
    "cv2.imshow('dst4', dst4)\n",
    "\n",
    "cv2.waitKey()\n",
    "cv2.destroyAllWindows()"
   ]
  },
  {
   "cell_type": "code",
   "execution_count": 7,
   "id": "508c3f46",
   "metadata": {},
   "outputs": [],
   "source": [
    "src = cv2.imread('./data/lena.jpg', cv2.IMREAD_GRAYSCALE)\n",
    "\n",
    "dst1 = cv2.boxFilter(src, ddepth=-1,ksize=(11,11))\n",
    "dst2 = cv2.boxFilter(src, ddepth=-1,ksize=(21,21))\n",
    "\n",
    "dst3 = cv2.bilateralFilter(src, d=11, sigmaColor = 10, sigmaSpace = 10)\n",
    "dst3 = cv2.bilateralFilter(src, d=-1, sigmaColor = 10, sigmaSpace = 10)\n",
    "\n",
    "cv2.imshow('src', src)\n",
    "cv2.imshow('dst1', dst1)\n",
    "cv2.imshow('dst2', dst2)\n",
    "cv2.imshow('dst3', dst3)\n",
    "cv2.imshow('dst4', dst4)\n",
    "\n",
    "cv2.waitKey()\n",
    "cv2.destroyAllWindows()\n"
   ]
  },
  {
   "cell_type": "code",
   "execution_count": 8,
   "id": "1258d985",
   "metadata": {},
   "outputs": [],
   "source": [
    "src = cv2.imread('./data/lena.jpg', cv2.IMREAD_GRAYSCALE)\n",
    "srcn = cv2.imread('./data/lena_gray_noise.jpg', cv2.IMREAD_GRAYSCALE)\n",
    "\n",
    "dst1 = cv2.blur(srcn, ksize = (7,7))\n",
    "dst2 = cv2.GaussianBlur(srcn, ksize=(7,7),sigmaX=3.0)\n",
    "dst3 = cv2.bilateralFilter(srcn, d=-1,sigmaColor = 5, sigmaSpace = 5)\n",
    "dst4 = cv2.medianBlur(srcn, ksize=3)\n",
    "\n",
    "cv2.imshow('src', src)\n",
    "cv2.imshow('srcn', srcn)\n",
    "cv2.imshow('dst1', dst1)\n",
    "cv2.imshow('dst2', dst2)\n",
    "cv2.imshow('dst3', dst3)\n",
    "cv2.imshow('dst4', dst4)\n",
    "cv2.waitKey()\n",
    "cv2.destroyAllWindows()"
   ]
  },
  {
   "cell_type": "code",
   "execution_count": null,
   "id": "30725b4f",
   "metadata": {},
   "outputs": [],
   "source": []
  }
 ],
 "metadata": {
  "kernelspec": {
   "display_name": "Python 3 (ipykernel)",
   "language": "python",
   "name": "python3"
  },
  "language_info": {
   "codemirror_mode": {
    "name": "ipython",
    "version": 3
   },
   "file_extension": ".py",
   "mimetype": "text/x-python",
   "name": "python",
   "nbconvert_exporter": "python",
   "pygments_lexer": "ipython3",
   "version": "3.11.5"
  }
 },
 "nbformat": 4,
 "nbformat_minor": 5
}
