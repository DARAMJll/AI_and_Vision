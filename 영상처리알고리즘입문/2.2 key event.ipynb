{
 "cells": [
  {
   "cell_type": "code",
   "execution_count": 7,
   "id": "c9d5d08f",
   "metadata": {},
   "outputs": [],
   "source": [
    "import numpy as np\n",
    "import cv2"
   ]
  },
  {
   "cell_type": "code",
   "execution_count": 8,
   "id": "caae1f44",
   "metadata": {},
   "outputs": [],
   "source": [
    "width, height = 512, 512\n",
    "x, y, R = 256,256, 50\n",
    "\n",
    "left = 2\n",
    "right = 0\n",
    "down = 1\n",
    "up = 3\n",
    "\n",
    "direction = right"
   ]
  },
  {
   "cell_type": "code",
   "execution_count": null,
   "id": "ad4db5dd",
   "metadata": {},
   "outputs": [],
   "source": [
    "while True :\n",
    "    key = cv2.waitKeyEx(30)\n",
    "    if key == 0x1B: break # ESC\n",
    "    \n",
    "    #방향키 방향전환\n",
    "    elif key == 0x270000: direction = right\n",
    "    elif key == 0x280000: direction = down\n",
    "    elif key == 0x250000: direction = left\n",
    "    elif key == 0x260000: direction = up\n",
    "        \n",
    "    #방향으로 이동\n",
    "    if direction == right : x += 10;\n",
    "    elif direction == down: y += 10\n",
    "    elif direction == left : x -= 10\n",
    "    else: #3, up\n",
    "        y -= 10\n",
    "        \n",
    "    #경계 확인\n",
    "    if x < R: \n",
    "        x = R\n",
    "        direction = right\n",
    "    if x > width - R:\n",
    "        x = width - R\n",
    "        direction = left\n",
    "    if y < R: \n",
    "        y = R\n",
    "        direction = down\n",
    "    if y > height - R:\n",
    "        y = height - R\n",
    "        direction = up\n",
    "        \n",
    "    #지우고 그리기\n",
    "    img = np.zeros((width, height, 3), np.uint8) + 255 #erase\n",
    "    cv2.circle(img, (x, y), R, (0, 0, 255), -1)\n",
    "    cv2.imshow('img', img)\n",
    "    \n",
    "cv2.destroyAllWindows()"
   ]
  },
  {
   "cell_type": "code",
   "execution_count": null,
   "id": "226cac8e",
   "metadata": {},
   "outputs": [],
   "source": []
  }
 ],
 "metadata": {
  "kernelspec": {
   "display_name": "Python 3 (ipykernel)",
   "language": "python",
   "name": "python3"
  },
  "language_info": {
   "codemirror_mode": {
    "name": "ipython",
    "version": 3
   },
   "file_extension": ".py",
   "mimetype": "text/x-python",
   "name": "python",
   "nbconvert_exporter": "python",
   "pygments_lexer": "ipython3",
   "version": "3.11.5"
  }
 },
 "nbformat": 4,
 "nbformat_minor": 5
}
