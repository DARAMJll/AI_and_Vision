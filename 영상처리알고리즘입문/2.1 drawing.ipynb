{
 "cells": [
  {
   "cell_type": "markdown",
   "id": "3e7ea366",
   "metadata": {},
   "source": [
    "## 1. line, rectangle drawing"
   ]
  },
  {
   "cell_type": "code",
   "execution_count": 2,
   "id": "129e8a50",
   "metadata": {},
   "outputs": [],
   "source": [
    "import cv2\n",
    "import numpy as np\n",
    "\n",
    "#white 배경 설정\n",
    "img = np.zeros(shape = (512, 512, 3), dtype = np.uint8) + 255 #zeros : 0으로 채워진 행렬 / 크기 : 512*512*3 / 데이터타입 : uint8\n",
    "#img = np.ones((512, 512, 3), np.uint8) * 255 #1로 채우기\n",
    "#img = np.full((512, 512, 3), (255, 255,255), dtype = np.uint8)\n",
    "#img = np.ones((512, 512, 3), np.uint8) #black background\n",
    "\n",
    "pt1 = 100, 100\n",
    "pt2 = 400, 400\n",
    "cv2.rectangle(img, pt1, pt2, (0, 255, 0), 2) #2 : 두께\n",
    "\n",
    "cv2.line(img, (0,0), (500,0), (255,0,0),5)\n",
    "cv2.line(img, (0,0), (0,500), (0,0,255),5)\n",
    "\n",
    "cv2.imshow('img', img)\n",
    "cv2.waitKey()\n",
    "cv2.destroyAllWindows()\n"
   ]
  },
  {
   "cell_type": "markdown",
   "id": "4074d095",
   "metadata": {},
   "source": [
    "## 2. cross point"
   ]
  },
  {
   "cell_type": "code",
   "execution_count": 3,
   "id": "25539f21",
   "metadata": {},
   "outputs": [],
   "source": [
    "img = np.zeros(shape = (512, 512, 3), dtype = np.uint8) + 255\n",
    "\n",
    "x1, x2 = 100, 400\n",
    "y1, y2 = 100, 400\n",
    "cv2.rectangle(img, (x1, y1), (x2, y2), (0, 0, 255))\n",
    "\n",
    "pt1 = 120, 50\n",
    "pt2 = 300, 500\n",
    "cv2.line(img, pt1, pt2, (255, 0, 0), 2)\n",
    "imgRect = (x1, y1, x2 - x1, y2 - y1) #x, y, width, height\n",
    "retval, rpt1, rpt2 = cv2.clipLine(imgRect, pt1, pt2) #rpt : 교차점 두 개\n",
    "\n",
    "if retval:\n",
    "    cv2.circle(img, rpt1, radius = 5, color = (0, 255, 0), thickness = -1) #-1 : 내부 채움\n",
    "    cv2.circle(img, rpt2, radius = 5, color = (0, 255, 0), thickness = -1)\n",
    "    \n",
    "cv2.imshow('img', img)\n",
    "cv2.waitKey()\n",
    "cv2.destroyAllWindows()"
   ]
  },
  {
   "cell_type": "markdown",
   "id": "de741027",
   "metadata": {},
   "source": [
    "## 3. circle drawing "
   ]
  },
  {
   "cell_type": "code",
   "execution_count": 4,
   "id": "bb0ae312",
   "metadata": {},
   "outputs": [],
   "source": [
    "img = np.zeros(shape = (512, 512, 3), dtype = np.uint8) + 255\n",
    "cx = img.shape[0]//2\n",
    "cy = img.shape[0]//2\n",
    "\n",
    "for r in range(200,0,-100):\n",
    "    cv2.circle(img, (cx, cy), r, color = (255, 0, 0))\n",
    "    \n",
    "cv2.circle(img, (cx, cy), radius = 50, color = (0, 0, 255), thickness = -1)\n",
    "\n",
    "cv2.imshow('img', img)\n",
    "cv2.waitKey()\n",
    "cv2.destroyAllWindows()"
   ]
  },
  {
   "cell_type": "markdown",
   "id": "8fe60f98",
   "metadata": {},
   "source": [
    "## 4. ellipse drawing"
   ]
  },
  {
   "cell_type": "code",
   "execution_count": 6,
   "id": "23a40706",
   "metadata": {},
   "outputs": [],
   "source": [
    "img = np.zeros(shape = (512, 512, 3), dtype = np.uint8) + 255\n",
    "ptCenter = img.shape[0]//2, img.shape[1]//2\n",
    "size = 200, 100\n",
    "\n",
    "cv2.ellipse(img, ptCenter, size, 0, 0, 360, (255, 0, 0))\n",
    "cv2.ellipse(img, ptCenter, size, 25, 0, 360, (0, 0, 255))\n",
    "\n",
    "box = (ptCenter, size, 0)\n",
    "cv2.ellipse(img, box, (255, 0, 0), 5)\n",
    "\n",
    "box = (ptCenter, size, 45)\n",
    "cv2.ellipse(img, box, (0, 0, 255), 5)\n",
    "\n",
    "cv2.imshow('img', img)\n",
    "cv2.waitKey()\n",
    "cv2.destroyAllWindows()"
   ]
  },
  {
   "cell_type": "markdown",
   "id": "cd1ac9de",
   "metadata": {},
   "source": [
    "## 5. polyline drawing - 1"
   ]
  },
  {
   "cell_type": "code",
   "execution_count": 7,
   "id": "1a6da6a6",
   "metadata": {},
   "outputs": [],
   "source": [
    "img = np.zeros(shape = (512, 512, 3), dtype = np.uint8)+255\n",
    "\n",
    "pts1 = np.array([[100,100],[200,100],[200,200],[100,200]])\n",
    "pts2 = np.array([[300,200],[400,100],[400,200]])\n",
    "\n",
    "cv2.polylines(img, [pts1, pts2], isClosed = True, color = (255, 0, 0))\n",
    "\n",
    "cv2.imshow('img', img)\n",
    "cv2.waitKey()\n",
    "cv2.destroyAllWindows()"
   ]
  },
  {
   "cell_type": "markdown",
   "id": "ae80fbf3",
   "metadata": {},
   "source": [
    "## 6. polyline drawing - 2"
   ]
  },
  {
   "cell_type": "code",
   "execution_count": 14,
   "id": "db2653a5",
   "metadata": {},
   "outputs": [],
   "source": [
    "img = np.zeros(shape = (512, 512, 3), dtype = np.uint8) + 255\n",
    "\n",
    "ptCenter = img.shape[0] // 2, img.shape[1]//2\n",
    "size = 200, 100\n",
    "\n",
    "cv2.ellipse(img, ptCenter, size, 0, 0, 360, (255, 0, 0))\n",
    "pts1 = cv2.ellipse2Poly(ptCenter, size, 0, 0, 360, delta = 30)\n",
    "\n",
    "cv2.ellipse(img, ptCenter, size, 45, 0, 360, (255, 0, 0))\n",
    "pts2 = cv2.ellipse2Poly(ptCenter, size, 45, 0, 360, delta = 30)\n",
    "\n",
    "cv2.polylines(img, [pts1, pts2], isClosed = True, color = (0, 0, 255))\n",
    "\n",
    "cv2.imshow('img', img)\n",
    "cv2.waitKey()\n",
    "cv2.destroyAllWindows()"
   ]
  },
  {
   "cell_type": "markdown",
   "id": "8b5fdc2c",
   "metadata": {},
   "source": [
    "## 7. rotated rectangle"
   ]
  },
  {
   "cell_type": "code",
   "execution_count": 12,
   "id": "8b90ce2f",
   "metadata": {},
   "outputs": [],
   "source": [
    "img = np.zeros(shape = (512, 512, 3), dtype = np.uint8) + 255\n",
    "\n",
    "x, y = 256, 256\n",
    "size = 200\n",
    "\n",
    "for angle in range(0, 90, 10):\n",
    "    rect = ((256, 256), (size, size), angle)\n",
    "    box = cv2.boxPoints(rect).astype(np.int32)\n",
    "    r = np.random.randint(256)\n",
    "    g = np.random.randint(256)\n",
    "    b = np.random.randint(256)\n",
    "    cv2.polylines(img, [box], True, (r, g, b), 2)\n",
    "    \n",
    "cv2.imshow('img', img)\n",
    "cv2.waitKey()\n",
    "cv2.destroyAllWindows()\n",
    "\n",
    "\n",
    "#함수로 만들기\n",
    "#def drawRotatedRectangle(img, x, y, w, h, color, angle):\n",
    "    "
   ]
  },
  {
   "cell_type": "markdown",
   "id": "432e2953",
   "metadata": {},
   "source": [
    "## 8. polygon drawing - 1 "
   ]
  },
  {
   "cell_type": "code",
   "execution_count": 16,
   "id": "02becb86",
   "metadata": {},
   "outputs": [],
   "source": [
    "#차이 알기\n",
    "img = np.zeros(shape = (512, 512, 3), dtype = np.uint8) + 255\n",
    "\n",
    "pts1 = np.array([[100,100],[200,100],[200,200],[100,200]])\n",
    "pts2 = np.array([[300,200],[400,100],[400,200]])\n",
    "\n",
    "cv2.fillConvexPoly(img, pts1, color = (255, 0, 0))\n",
    "cv2.fillPoly(img, [pts2], color = (0, 0, 255))\n",
    "#cv2.fillPoly(img, [pts1, pts2], color = (0, 0, 255))\n",
    "\n",
    "cv2.imshow('img', img)\n",
    "cv2.waitKey()\n",
    "cv2.destroyAllWindows()"
   ]
  },
  {
   "cell_type": "markdown",
   "id": "3adb427e",
   "metadata": {},
   "source": [
    "## 9. polygon drawing - 2"
   ]
  },
  {
   "cell_type": "code",
   "execution_count": 19,
   "id": "2c464809",
   "metadata": {},
   "outputs": [],
   "source": [
    "b = (255, 0, 0)\n",
    "g = (0, 255, 0)\n",
    "r = (0, 0, 255)\n",
    "w = (255, 255,255)\n",
    "\n",
    "img1 = np.zeros((400, 400, 3), np.uint8)\n",
    "img2 = np.zeros((400, 400, 3), np.uint8)\n",
    "pt1 = np.array([[100, 100], [270, 110], [300, 330], [170, 170], [150, 250]], np.int32)\n",
    "\n",
    "cv2.fillConvexPoly(img1, pt1, g)\n",
    "cv2.fillPoly(img2, [pt1], r)\n",
    "\n",
    "cv2.imshow('convex', img1)\n",
    "cv2.imshow('poly', img2)\n",
    "\n",
    "cv2.waitKey()\n",
    "cv2.destroyAllWindows()"
   ]
  },
  {
   "cell_type": "markdown",
   "id": "300c0d8a",
   "metadata": {},
   "source": [
    "## 10. textout"
   ]
  },
  {
   "cell_type": "code",
   "execution_count": 23,
   "id": "1ae25fc2",
   "metadata": {},
   "outputs": [],
   "source": [
    "img = np.zeros(shape = (512, 512, 3), dtype = np.uint8) + 255\n",
    "text = 'Merong !!'\n",
    "org = (50, 100)\n",
    "font = cv2.FONT_HERSHEY_SIMPLEX\n",
    "cv2.putText(img, text, org, font, 1, (255, 0, 0), 2)\n",
    "\n",
    "cv2.imshow('img', img)\n",
    "cv2.waitKey()\n",
    "cv2.destroyAllWindows()"
   ]
  },
  {
   "cell_type": "code",
   "execution_count": null,
   "id": "63a2c43c",
   "metadata": {},
   "outputs": [],
   "source": []
  }
 ],
 "metadata": {
  "kernelspec": {
   "display_name": "Python 3 (ipykernel)",
   "language": "python",
   "name": "python3"
  },
  "language_info": {
   "codemirror_mode": {
    "name": "ipython",
    "version": 3
   },
   "file_extension": ".py",
   "mimetype": "text/x-python",
   "name": "python",
   "nbconvert_exporter": "python",
   "pygments_lexer": "ipython3",
   "version": "3.11.5"
  }
 },
 "nbformat": 4,
 "nbformat_minor": 5
}
