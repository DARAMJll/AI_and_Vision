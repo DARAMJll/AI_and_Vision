{
 "cells": [
  {
   "cell_type": "code",
   "execution_count": 14,
   "id": "84d6d4d1",
   "metadata": {},
   "outputs": [],
   "source": [
    "import numpy as np\n",
    "import cv2\n",
    "\n",
    "image1 = './data/lena.jpg'\n",
    "image2 = './data/baboon.jpg'\n",
    "\n",
    "img1 = 0\n",
    "img2 = 0\n",
    "img3 = 0"
   ]
  },
  {
   "cell_type": "code",
   "execution_count": 15,
   "id": "cbd09f7d",
   "metadata": {},
   "outputs": [],
   "source": [
    "def onChange(pos):\n",
    "    n = cv2.getTrackbarPos('alpha', 'image')\n",
    "    alpha = n / 100;\n",
    "    img3 = np.uint8((alpha * img2 + (1 - alpha) * img1))\n",
    "    cv2.imshow('image', img3)"
   ]
  },
  {
   "cell_type": "code",
   "execution_count": 16,
   "id": "a93712a6",
   "metadata": {},
   "outputs": [],
   "source": [
    "img1 = cv2.imread(image1)\n",
    "img2 = cv2.imread(image2)\n",
    "img3 = img1.copy()\n",
    "\n",
    "cv2.imshow('image', img3)\n",
    "cv2.createTrackbar('alpha', 'image', 0, 100, onChange)\n",
    "\n",
    "cv2.waitKey()\n",
    "cv2.destroyAllWindows()\n"
   ]
  },
  {
   "cell_type": "code",
   "execution_count": null,
   "id": "f60632fe",
   "metadata": {},
   "outputs": [],
   "source": []
  }
 ],
 "metadata": {
  "kernelspec": {
   "display_name": "Python 3 (ipykernel)",
   "language": "python",
   "name": "python3"
  },
  "language_info": {
   "codemirror_mode": {
    "name": "ipython",
    "version": 3
   },
   "file_extension": ".py",
   "mimetype": "text/x-python",
   "name": "python",
   "nbconvert_exporter": "python",
   "pygments_lexer": "ipython3",
   "version": "3.11.5"
  }
 },
 "nbformat": 4,
 "nbformat_minor": 5
}
