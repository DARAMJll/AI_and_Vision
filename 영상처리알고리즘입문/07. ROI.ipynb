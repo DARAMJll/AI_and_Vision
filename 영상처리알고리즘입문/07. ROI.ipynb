{
 "cells": [
  {
   "cell_type": "code",
   "execution_count": 1,
   "id": "a614212a",
   "metadata": {},
   "outputs": [],
   "source": [
    "import cv2\n",
    "import numpy as np"
   ]
  },
  {
   "cell_type": "code",
   "execution_count": 2,
   "id": "fdd0ba44",
   "metadata": {},
   "outputs": [
    {
     "name": "stdout",
     "output_type": "stream",
     "text": [
      "512 512\n",
      "256 256\n"
     ]
    }
   ],
   "source": [
    "img = cv2.imread('./data/lena.jpg', cv2.IMREAD_GRAYSCALE)\n",
    "\n",
    "(h, w) = img.shape\n",
    "print(h, w)\n",
    "\n",
    "(cy, cx) = (h//2, w//2)\n",
    "print(cy, cx)\n",
    "\n",
    "roi = img[0:cy, 0:cx]\n",
    "\n",
    "cv2.imshow('img', img)\n",
    "cv2.imshow('ROI', roi)\n",
    "cv2.waitKey()\n",
    "cv2.destroyAllWindows()"
   ]
  },
  {
   "cell_type": "code",
   "execution_count": 8,
   "id": "b6bbb287",
   "metadata": {},
   "outputs": [],
   "source": [
    "src = cv2.imread('./data/lena.jpg', cv2.IMREAD_GRAYSCALE)\n",
    "dst = np.zeros(src.shape, dtype = src.dtype)\n",
    "\n",
    "N = 64\n",
    "height, width = src.shape\n",
    "\n",
    "h = height // N\n",
    "w = width // N\n",
    "\n",
    "for i in range(N):\n",
    "    for j in range(N):\n",
    "        y = i*h\n",
    "        x = j*w\n",
    "        roi = src[y:y+h, x:x+w]\n",
    "        val = cv2.mean(roi)\n",
    "        \n",
    "        dst[y:y+h, x:x+w] = val[0]\n",
    "        \n",
    "cv2.imshow('dst', dst)\n",
    "cv2.waitKey()\n",
    "cv2.destroyAllWindows()"
   ]
  },
  {
   "cell_type": "code",
   "execution_count": 12,
   "id": "faf7bfbf",
   "metadata": {},
   "outputs": [
    {
     "name": "stdout",
     "output_type": "stream",
     "text": [
      "roi =  (98, 75, 362, 364)\n"
     ]
    }
   ],
   "source": [
    "src = cv2.imread('./data/lena.jpg', cv2.IMREAD_GRAYSCALE)\n",
    "roi = cv2.selectROI(src)\n",
    "print('roi = ', roi)\n",
    "\n",
    "image = src[roi[1]:roi[1]+roi[3], roi[0]:roi[0]+roi[2]]\n",
    "\n",
    "cv2.imshow('img', image)\n",
    "cv2.waitKey()\n",
    "cv2.destroyAllWindows()"
   ]
  },
  {
   "cell_type": "code",
   "execution_count": 15,
   "id": "57e77006",
   "metadata": {},
   "outputs": [
    {
     "name": "stdout",
     "output_type": "stream",
     "text": [
      "rects =  [[212  16 134 167]\n",
      " [184 256 123 142]\n",
      " [332 241  98 125]\n",
      " [207 137 127 181]\n",
      " [ 57 112 145 156]\n",
      " [299 174 205 285]\n",
      " [299 174 205 285]\n",
      " [173 124 123 118]\n",
      " [234 158 195 291]\n",
      " [196 184 148 210]\n",
      " [209 225 176 229]\n",
      " [209 181 208 215]\n",
      " [236 224 134 158]]\n"
     ]
    }
   ],
   "source": [
    "src = cv2.imread('./data/lena.jpg', cv2.IMREAD_GRAYSCALE)\n",
    "rects = cv2.selectROIs('src', src, False, False)\n",
    "print('rects = ', rects)\n",
    "\n",
    "for r in rects:\n",
    "    cv2.rectangle(src, (r[0], r[1]), (r[0] + r[2], r[1] + r[3]), 255)\n",
    "\n",
    "cv2.imshow('src', src)\n",
    "cv2.waitKey()\n",
    "cv2.destroyAllWindows()"
   ]
  },
  {
   "cell_type": "code",
   "execution_count": null,
   "id": "219f7c88",
   "metadata": {},
   "outputs": [],
   "source": []
  }
 ],
 "metadata": {
  "kernelspec": {
   "display_name": "Python 3 (ipykernel)",
   "language": "python",
   "name": "python3"
  },
  "language_info": {
   "codemirror_mode": {
    "name": "ipython",
    "version": 3
   },
   "file_extension": ".py",
   "mimetype": "text/x-python",
   "name": "python",
   "nbconvert_exporter": "python",
   "pygments_lexer": "ipython3",
   "version": "3.11.5"
  }
 },
 "nbformat": 4,
 "nbformat_minor": 5
}
