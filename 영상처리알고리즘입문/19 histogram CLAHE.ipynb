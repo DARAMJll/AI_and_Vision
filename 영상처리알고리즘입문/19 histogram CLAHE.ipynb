{
 "cells": [
  {
   "cell_type": "code",
   "execution_count": 3,
   "id": "14bda57d",
   "metadata": {},
   "outputs": [],
   "source": [
    "import cv2\n",
    "import numpy as np\n",
    "from matplotlib import pyplot as plt"
   ]
  },
  {
   "cell_type": "code",
   "execution_count": 5,
   "id": "45adaabd",
   "metadata": {},
   "outputs": [],
   "source": [
    "src = cv2.imread('./data/tsukuba_l.png', cv2.IMREAD_GRAYSCALE)\n",
    "cv2.imshow('src', src)\n",
    "\n",
    "dst1 = cv2.equalizeHist(src)\n",
    "cv2.imshow('dst', dst1)\n",
    "\n",
    "clahe = cv2.createCLAHE(clipLimit=40, tileGridSize = (1,1))\n",
    "dst2 = clahe.apply(src)\n",
    "cv2.imshow('dst2', dst2)\n",
    "\n",
    "clahe2 = cv2.createCLAHE(clipLimit=40, tileGridSize = (8,8))\n",
    "dst3 = clahe.apply(src)\n",
    "cv2.imshow('dst3', dst3)\n",
    "\n",
    "cv2.waitKey()\n",
    "cv2.destroyAllWindows()"
   ]
  },
  {
   "cell_type": "code",
   "execution_count": null,
   "id": "053e2cd4",
   "metadata": {},
   "outputs": [],
   "source": []
  }
 ],
 "metadata": {
  "kernelspec": {
   "display_name": "Python 3 (ipykernel)",
   "language": "python",
   "name": "python3"
  },
  "language_info": {
   "codemirror_mode": {
    "name": "ipython",
    "version": 3
   },
   "file_extension": ".py",
   "mimetype": "text/x-python",
   "name": "python",
   "nbconvert_exporter": "python",
   "pygments_lexer": "ipython3",
   "version": "3.11.5"
  }
 },
 "nbformat": 4,
 "nbformat_minor": 5
}
