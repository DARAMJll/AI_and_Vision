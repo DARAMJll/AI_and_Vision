{
 "cells": [
  {
   "cell_type": "code",
   "execution_count": 1,
   "metadata": {},
   "outputs": [],
   "source": [
    "import cv2\n",
    "import numpy as np\n",
    "import imutils"
   ]
  },
  {
   "cell_type": "code",
   "execution_count": 2,
   "metadata": {},
   "outputs": [
    {
     "name": "stdout",
     "output_type": "stream",
     "text": [
      "(512, 512, 3)\n"
     ]
    }
   ],
   "source": [
    "src = cv2.imread('./data/lena.jpg')\n",
    "rows, cols, channels = src.shape\n",
    "print(src.shape)\n",
    "\n",
    "cv2.imshow('src', src)\n",
    "cv2.waitKey()    \n",
    "cv2.destroyAllWindows()"
   ]
  },
  {
   "cell_type": "code",
   "execution_count": null,
   "metadata": {},
   "outputs": [],
   "source": [
    "\n",
    "ag = 0\n",
    "\n",
    "while True:   \n",
    "    key = cv2.waitKeyEx(30)\n",
    "    #TODO: 키 입력 별 처리\n",
    "    \n",
    "    if key == 27:  #ESC\n",
    "        break\n",
    "                \n",
    "    elif key == 0x250000: # left\n",
    "        src = imutils.rotate(src, angle = ag + 10, center = (rows/2, cols/2))\n",
    "                \n",
    "    elif key == 0x270000: # right\n",
    "        src = imutils.rotate(src, angle = ag - 10, center = (rows/2, cols/2))\n",
    "        \n",
    "    elif key == 0x280000: # down\n",
    "        src = imutils.resize(src, width = rows + 10, height = cols + 10)\n",
    "        \n",
    "    elif key == 0x260000: # up\n",
    "        src = imutils.resize(src, width = rows - 10, height = cols - 10)\n",
    "    \n",
    "    cv2.imshow('src', src)\n",
    "cv2.waitKey()\n",
    "        \n",
    "cv2.destroyAllWindows()"
   ]
  },
  {
   "cell_type": "code",
   "execution_count": null,
   "metadata": {},
   "outputs": [],
   "source": []
  }
 ],
 "metadata": {
  "kernelspec": {
   "display_name": "Python 3 (ipykernel)",
   "language": "python",
   "name": "python3"
  },
  "language_info": {
   "codemirror_mode": {
    "name": "ipython",
    "version": 3
   },
   "file_extension": ".py",
   "mimetype": "text/x-python",
   "name": "python",
   "nbconvert_exporter": "python",
   "pygments_lexer": "ipython3",
   "version": "3.11.5"
  }
 },
 "nbformat": 4,
 "nbformat_minor": 4
}
