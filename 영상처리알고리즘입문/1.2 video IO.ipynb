{
 "cells": [
  {
   "cell_type": "markdown",
   "id": "e08d6d85",
   "metadata": {},
   "source": [
    "## 1. video input and display - file"
   ]
  },
  {
   "cell_type": "code",
   "execution_count": 1,
   "id": "0546dbbe",
   "metadata": {},
   "outputs": [
    {
     "name": "stdout",
     "output_type": "stream",
     "text": [
      "frmae_size =  (768, 576)\n"
     ]
    }
   ],
   "source": [
    "import cv2\n",
    "\n",
    "cap = cv2.VideoCapture('./data/vtest.avi') #0 하면 카메라 캡처\n",
    "frame_size = (int(cap.get(cv2.CAP_PROP_FRAME_WIDTH)), int(cap.get(cv2.CAP_PROP_FRAME_HEIGHT)))\n",
    "print('frmae_size = ', frame_size)\n",
    "\n",
    "while True:\n",
    "    retval, frame = cap.read() #capture 1 frame\n",
    "    if not retval:\n",
    "        break\n",
    "        \n",
    "    cv2.imshow('frame', frame)\n",
    "    \n",
    "    key = cv2.waitKey(25) #25 ms 기다림\n",
    "    if key == 27 : break #esc\n",
    "        \n",
    "if cap.isOpened():\n",
    "    cap.release()\n",
    "    \n",
    "cv2.destroyAllWindows()"
   ]
  },
  {
   "cell_type": "markdown",
   "id": "20225dfb",
   "metadata": {},
   "source": [
    "## 2. video input and display - youtube\n",
    "\n",
    "#### pip install youtube_dl == 2020.12.2\n",
    "#### pip install pafy"
   ]
  },
  {
   "cell_type": "code",
   "execution_count": 4,
   "id": "b60fc6a5",
   "metadata": {},
   "outputs": [
    {
     "name": "stdout",
     "output_type": "stream",
     "text": [
      "Requirement already satisfied: youtube_dl==2020.12.2 in c:\\users\\catholic\\anaconda3\\lib\\site-packages (2020.12.2)\n",
      "Requirement already satisfied: pafy in c:\\users\\catholic\\anaconda3\\lib\\site-packages (0.5.5)\n"
     ]
    }
   ],
   "source": [
    "!pip install youtube_dl==2020.12.2\n",
    "!pip install pafy"
   ]
  },
  {
   "cell_type": "code",
   "execution_count": 8,
   "id": "5d02072f",
   "metadata": {},
   "outputs": [
    {
     "name": "stdout",
     "output_type": "stream",
     "text": [
      "title =  [#최애직캠] TWS SHINYU – plot twist (투어스 신유-첫 만남은 계획대로 되지 않아) Close-up Cam |Show!MusicCore| MBC240127방송\n",
      "video.rating =  None\n",
      "video.duration =  00:03:10\n",
      "normal:mp4@640x360\n",
      "best.resolution 640x360\n"
     ]
    }
   ],
   "source": [
    "\n",
    "import pafy\n",
    "url = 'https://youtu.be/BtFPgl0tC0k?si=n_dEkN2vq77xFTpp'\n",
    "\n",
    "video = pafy.new(url)\n",
    "print('title = ', video.title)\n",
    "print('video.rating = ', video.rating)\n",
    "print('video.duration = ', video.duration)\n",
    "\n",
    "#selects the stream with the highest resolution\n",
    "best = video.getbest(preftype='mp4')\n",
    "print(best)\n",
    "print('best.resolution', best.resolution)\n",
    "\n",
    "cap = cv2.VideoCapture(best.url)\n",
    "\n",
    "while(True):\n",
    "    retval, frame = cap.read()\n",
    "    if not retval: break\n",
    "    cv2.imshow('frame', frame)\n",
    "    \n",
    "    gray = cv2.cvtColor(frame, cv2.COLOR_BGR2GRAY)\n",
    "    edges = cv2.Canny(gray, 100, 200) #edge detecter\n",
    "    cv2.imshow('edges', edges)\n",
    "    \n",
    "    key = cv2.waitKey(25)\n",
    "    if key == 27 : break\n",
    "        \n",
    "cv2.destroyAllWindows()"
   ]
  },
  {
   "cell_type": "code",
   "execution_count": null,
   "id": "fea6d7b0",
   "metadata": {},
   "outputs": [],
   "source": []
  }
 ],
 "metadata": {
  "kernelspec": {
   "display_name": "Python 3 (ipykernel)",
   "language": "python",
   "name": "python3"
  },
  "language_info": {
   "codemirror_mode": {
    "name": "ipython",
    "version": 3
   },
   "file_extension": ".py",
   "mimetype": "text/x-python",
   "name": "python",
   "nbconvert_exporter": "python",
   "pygments_lexer": "ipython3",
   "version": "3.11.5"
  }
 },
 "nbformat": 4,
 "nbformat_minor": 5
}
