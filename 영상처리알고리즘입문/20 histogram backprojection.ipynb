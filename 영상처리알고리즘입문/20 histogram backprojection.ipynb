{
 "cells": [
  {
   "cell_type": "code",
   "execution_count": 1,
   "id": "3ff129fc",
   "metadata": {},
   "outputs": [],
   "source": [
    "import cv2\n",
    "import numpy as np\n",
    "from matplotlib import pyplot as plt"
   ]
  },
  {
   "cell_type": "code",
   "execution_count": 3,
   "id": "670c10e3",
   "metadata": {},
   "outputs": [],
   "source": [
    "src = np.array([[0,0,0,0],[1,1,3,5],[6,1,1,3],[4,3,1,7]],dtype = np.uint8)\n",
    "\n",
    "hist = cv2.calcHist(images = [src], channels = [0], mask = None, histSize = [4], ranges = [0, 8])\n",
    "\n",
    "backP = cv2.calcBackProject([src], [0], hist, [0,8], scale = 1)"
   ]
  },
  {
   "cell_type": "code",
   "execution_count": 6,
   "id": "2ed57299",
   "metadata": {},
   "outputs": [],
   "source": [
    "src = cv2.imread('./data/fruits.jpg')\n",
    "hsv = cv2.cvtColor(src, cv2.COLOR_BGR2HSV)\n",
    "h, s, v = cv2.split(hsv)\n",
    "\n",
    "\n",
    "roi = cv2.selectROI(src)\n",
    "\n",
    "roi_h = h[roi[1]:roi[1]+roi[3], roi[0]:roi[0]+roi[2]]\n",
    "hist = cv2.calcHist(images = [roi_h], channels = [0], mask = None, histSize = [64], ranges = [0, 256])\n",
    "backP = cv2.calcBackProject([h.astype(np.float32)], [0], hist, [0, 256], scale = 1.0)\n",
    "\n",
    "\n",
    "hist = cv2.sort(hist, cv2.SORT_EVERY_COLUMN + cv2.SORT_DESCENDING)\n",
    "\n",
    "k = 1\n",
    "T = hist[k][0] - 1\n",
    "\n",
    "ret, dst = cv2.threshold(backP, T, 255, cv2.THRESH_BINARY)\n",
    "\n",
    "cv2.imshow('dst', dst)\n",
    "cv2.waitKey()\n",
    "cv2.destroyAllWindows()"
   ]
  },
  {
   "cell_type": "code",
   "execution_count": 7,
   "id": "9dcf0064",
   "metadata": {},
   "outputs": [
    {
     "ename": "AttributeError",
     "evalue": "'NoneType' object has no attribute 'astype'",
     "output_type": "error",
     "traceback": [
      "\u001b[1;31m---------------------------------------------------------------------------\u001b[0m",
      "\u001b[1;31mAttributeError\u001b[0m                            Traceback (most recent call last)",
      "Cell \u001b[1;32mIn[7], line 7\u001b[0m\n\u001b[0;32m      4\u001b[0m src \u001b[38;5;241m=\u001b[39m cv2\u001b[38;5;241m.\u001b[39mimread(\u001b[38;5;124m'\u001b[39m\u001b[38;5;124m./data/bckproj.bmp\u001b[39m\u001b[38;5;124m'\u001b[39m, cv2\u001b[38;5;241m.\u001b[39mIMREAD_GRAYSCALE)\n\u001b[0;32m      5\u001b[0m hist \u001b[38;5;241m=\u001b[39m cv2\u001b[38;5;241m.\u001b[39mcalcHist(images \u001b[38;5;241m=\u001b[39m [src], channels \u001b[38;5;241m=\u001b[39m [\u001b[38;5;241m0\u001b[39m], mask \u001b[38;5;241m=\u001b[39m \u001b[38;5;28;01mNone\u001b[39;00m , histSize \u001b[38;5;241m=\u001b[39m [\u001b[38;5;241m256\u001b[39m], ranges \u001b[38;5;241m=\u001b[39m [\u001b[38;5;241m0\u001b[39m,\u001b[38;5;241m256\u001b[39m])\n\u001b[1;32m----> 7\u001b[0m backP \u001b[38;5;241m=\u001b[39m cv2\u001b[38;5;241m.\u001b[39mcalcBackProject([src\u001b[38;5;241m.\u001b[39mastype(np\u001b[38;5;241m.\u001b[39mfloat32)],[\u001b[38;5;241m0\u001b[39m],hist,[\u001b[38;5;241m0\u001b[39m, \u001b[38;5;241m256\u001b[39m], scale\u001b[38;5;241m=\u001b[39m\u001b[38;5;241m1\u001b[39m)\n\u001b[0;32m     10\u001b[0m min_val, max_val, min_loc, max_loc \u001b[38;5;241m=\u001b[39m cv2\u001b[38;5;241m.\u001b[39mminMaxLoc(backP)\n",
      "\u001b[1;31mAttributeError\u001b[0m: 'NoneType' object has no attribute 'astype'"
     ]
    }
   ],
   "source": [
    "import cv2\n",
    "import numpy as np\n",
    "\n",
    "src = cv2.imread('./data/bckproj.bmp', cv2.IMREAD_GRAYSCALE)\n",
    "hist = cv2.calcHist(images = [src], channels = [0], mask = None , histSize = [256], ranges = [0,256])\n",
    "\n",
    "backP = cv2.calcBackProject([src.astype(np.float32)],[0],hist,[0, 256], scale=1)\n",
    "\n",
    "\n",
    "min_val, max_val, min_loc, max_loc = cv2.minMaxLoc(backP)\n"
   ]
  },
  {
   "cell_type": "code",
   "execution_count": null,
   "id": "7f8345c8",
   "metadata": {},
   "outputs": [],
   "source": []
  }
 ],
 "metadata": {
  "kernelspec": {
   "display_name": "Python 3 (ipykernel)",
   "language": "python",
   "name": "python3"
  },
  "language_info": {
   "codemirror_mode": {
    "name": "ipython",
    "version": 3
   },
   "file_extension": ".py",
   "mimetype": "text/x-python",
   "name": "python",
   "nbconvert_exporter": "python",
   "pygments_lexer": "ipython3",
   "version": "3.11.5"
  }
 },
 "nbformat": 4,
 "nbformat_minor": 5
}
