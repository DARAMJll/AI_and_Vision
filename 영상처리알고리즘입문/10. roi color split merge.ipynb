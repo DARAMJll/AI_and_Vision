{
 "cells": [
  {
   "cell_type": "code",
   "execution_count": 1,
   "id": "568d6caa",
   "metadata": {},
   "outputs": [],
   "source": [
    "import cv2\n",
    "import numpy as np"
   ]
  },
  {
   "cell_type": "markdown",
   "id": "25f3cee5",
   "metadata": {},
   "source": [
    "## roi 설정 및 밝기 변형"
   ]
  },
  {
   "cell_type": "code",
   "execution_count": 11,
   "id": "3fd2e221",
   "metadata": {},
   "outputs": [
    {
     "name": "stdout",
     "output_type": "stream",
     "text": [
      "roi =  (96, 48, 416, 415)\n"
     ]
    }
   ],
   "source": [
    "src = cv2.imread('./data/lena.jpg')\n",
    "roi = cv2.selectROI(src)\n",
    "print(\"roi = \", roi)\n",
    "\n",
    "roiimage = src[roi[1]:roi[1] + roi[3], roi[0]:roi[0] + roi[2]]\n",
    "\n",
    "hsv = cv2.cvtColor(roiimage, cv2.COLOR_BGR2HSV)\n",
    "h, s, v = cv2.split(hsv)\n",
    "\n",
    "\n",
    "v = cv2.add(v, 50)\n",
    "\n",
    "hsv2 = cv2.merge([h, s, v])\n",
    "roidst = cv2.cvtColor(hsv2, cv2.COLOR_HSV2BGR)\n",
    "\n",
    "cv2.imshow('roi', roiimage)\n",
    "cv2.imshow('roidst', roidst)\n",
    "\n",
    "cv2.waitKey()\n",
    "cv2.destroyAllWindows()"
   ]
  },
  {
   "cell_type": "code",
   "execution_count": null,
   "id": "86b8d822",
   "metadata": {},
   "outputs": [],
   "source": []
  }
 ],
 "metadata": {
  "kernelspec": {
   "display_name": "Python 3 (ipykernel)",
   "language": "python",
   "name": "python3"
  },
  "language_info": {
   "codemirror_mode": {
    "name": "ipython",
    "version": 3
   },
   "file_extension": ".py",
   "mimetype": "text/x-python",
   "name": "python",
   "nbconvert_exporter": "python",
   "pygments_lexer": "ipython3",
   "version": "3.11.5"
  }
 },
 "nbformat": 4,
 "nbformat_minor": 5
}
