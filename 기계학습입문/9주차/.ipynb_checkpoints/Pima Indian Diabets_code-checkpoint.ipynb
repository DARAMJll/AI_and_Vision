{
 "cells": [
  {
   "cell_type": "markdown",
   "metadata": {},
   "source": [
    "### Pima Indian Diabetes Dataset\n",
    "#### Binary classification problem\n",
    "##### # of feature : 8\n",
    "###### feature 0: 과거 임신횟수\n",
    "###### feature 1: 포도당 부하 검사 2시간 후 공복 혈당 농도\n",
    "###### feature 2: 확장기 혈압\n",
    "###### feature 3: 삼두근 피부 주름 두계\n",
    "###### feature 4: 혈청 인슐린\n",
    "###### feature 5: 체질량 지수\n",
    "###### feature 6: 당뇨병 가족력\n",
    "###### feature 7: 나이\n",
    "###### output: 0(당뇨아님), 1(당뇨)\n",
    "####  \n",
    "#### feature names = [\"pregnant\", \"plasma\", \"pressure\", \"thickness\", \"insulin\", \"BMI\", \"pedigree\", \"age\", \"class\"])"
   ]
  },
  {
   "cell_type": "code",
   "execution_count": 7,
   "metadata": {},
   "outputs": [],
   "source": [
    "import numpy as np\n",
    "import matplotlib.pyplot as plt\n",
    "from sklearn.model_selection import train_test_split\n",
    "from sklearn.linear_model import LogisticRegression\n",
    "\n",
    "## TODO ##\n",
    "## csv파일안에 입력과 출력이 같이 있습니다. 맨 마지막 열이 출력 값이고 나머지는 입력 데이터 입니다. \n",
    "## 우선 입력과 출력 데이터를 각각 저장하시고 \n",
    "#train_test_split 함수를 이용하여 train 데이터와 test 데이터를 나누신 후 \n",
    "## train 데이터를 이용하여 학습하시면 됩니다.\n",
    "#train 데이터와 test 데이터로 각각 정확도를 측정하시면 됩니다.\n",
    "## 방법론은 로지스틱 회귀를 이용하여 분류 하시면 됩니다. "
   ]
  },
  {
   "cell_type": "code",
   "execution_count": 15,
   "metadata": {},
   "outputs": [
    {
     "name": "stdout",
     "output_type": "stream",
     "text": [
      "(768, 9)\n",
      "(768, 8)\n",
      "(768,)\n"
     ]
    }
   ],
   "source": [
    "input_file = './data/pima-indians-diabetes.data.csv'\n",
    "data = np.loadtxt(input_file, delimiter= ',') #ndarray형태로 다 들어감\n",
    "print(data.shape)\n",
    "\n",
    "\n",
    "x, y = data[:,:-1],data[:,-1]\n",
    "print(x.shape)\n",
    "print(y.shape)\n",
    "\n"
   ]
  },
  {
   "cell_type": "code",
   "execution_count": 20,
   "metadata": {},
   "outputs": [
    {
     "name": "stdout",
     "output_type": "stream",
     "text": [
      "76.5625\n",
      "80.20833333333334\n"
     ]
    }
   ],
   "source": [
    "x_train, x_test, y_train, y_test = train_test_split(x, y, random_state = 0)\n",
    "classifier = LogisticRegression(C =1000, max_iter = 10000).fit(x_train, y_train)\n",
    "print(classifier.score(x_train, y_train)*100)\n",
    "print(classifier.score(x_test, y_test)*100)"
   ]
  },
  {
   "cell_type": "code",
   "execution_count": null,
   "metadata": {},
   "outputs": [],
   "source": []
  }
 ],
 "metadata": {
  "kernelspec": {
   "display_name": "Python 3 (ipykernel)",
   "language": "python",
   "name": "python3"
  },
  "language_info": {
   "codemirror_mode": {
    "name": "ipython",
    "version": 3
   },
   "file_extension": ".py",
   "mimetype": "text/x-python",
   "name": "python",
   "nbconvert_exporter": "python",
   "pygments_lexer": "ipython3",
   "version": "3.9.7"
  }
 },
 "nbformat": 4,
 "nbformat_minor": 4
}
