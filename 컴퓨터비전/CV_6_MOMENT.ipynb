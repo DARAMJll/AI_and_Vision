{
 "cells": [
  {
   "cell_type": "code",
   "execution_count": 5,
   "metadata": {},
   "outputs": [],
   "source": [
    "import numpy as np\n",
    "import cv2\n",
    "import imutils"
   ]
  },
  {
   "cell_type": "code",
   "execution_count": 11,
   "metadata": {},
   "outputs": [
    {
     "data": {
      "text/plain": [
       "<function destroyAllWindows>"
      ]
     },
     "execution_count": 11,
     "metadata": {},
     "output_type": "execute_result"
    }
   ],
   "source": [
    "src = cv2.imread('./data/momentTest.jpg')\n",
    "gray = cv2.cvtColor(src, cv2.COLOR_BGR2GRAY)\n",
    "ret, bimage = cv2.threshold(gray, 128, 255, cv2.THRESH_BINARY) #바이너리 이미지 만들어줌 / 흰색은 다 255로\n",
    "\n",
    "\n",
    "mode = cv2.RETR_EXTERNAL #체외곽선 추출\n",
    "method = cv2.CHAIN_APPROX_SIMPLE #선을 저장하는 것이 아닌 꼭짓점만 저장\n",
    "contours, _ = cv2.findContours(bimage, mode, method) #외곽선 : 컨투어(점의 정도)\n",
    "\n",
    "dst = src.copy()\n",
    "cnt = contours[0] #컨투어 개수 저장\n",
    "cv2.drawContours(dst, [cnt], 0, (255, 0, 0), 3)\n",
    "cv2.imshow('contour', dst)\n",
    "cv2.waitKey()\n",
    "cv2.destroyAllWindows"
   ]
  },
  {
   "cell_type": "code",
   "execution_count": 16,
   "metadata": {},
   "outputs": [
    {
     "name": "stdout",
     "output_type": "stream",
     "text": [
      "hu.shape = (7, 1)\n",
      "hu = [[ 1.72272960e-01]\n",
      " [ 2.17960438e-03]\n",
      " [ 9.24428655e-05]\n",
      " [ 1.90785217e-06]\n",
      " [ 1.11977849e-12]\n",
      " [-6.96325160e-09]\n",
      " [-2.53121609e-11]]\n"
     ]
    }
   ],
   "source": [
    "M = cv2.moments(cnt)\n",
    "hu = cv2.HuMoments(M)\n",
    "print(f'hu.shape = {hu.shape}') #열벡터\n",
    "print(f'hu = {hu}') "
   ]
  },
  {
   "cell_type": "code",
   "execution_count": 22,
   "metadata": {},
   "outputs": [],
   "source": [
    "angle = 45.0\n",
    "scale = .2 #스케일 줄임\n",
    "cx = M['m10']/M['m00'] #x축합, 전체합 (중점 구하기)\n",
    "cy = M['m01']/M['m00']\n",
    "center = (cx, cy)\n",
    "t = (20, 30)\n",
    "\n",
    "A = cv2.getRotationMatrix2D(center, angle, scale) #로테이션 반환 (A = srt)\n",
    "A[:, 2] += t\n",
    "cnt2 = cv2.transform(cnt, A) #x, y 곱함\n",
    "cv2.drawContours(dst, [cnt2], 0, (0, 255, 0))\n",
    "cv2.imshow('dst', dst)\n",
    "cv2.waitKey()\n",
    "cv2.destroyAllWindows()"
   ]
  },
  {
   "cell_type": "code",
   "execution_count": 23,
   "metadata": {},
   "outputs": [
    {
     "name": "stdout",
     "output_type": "stream",
     "text": [
      "hu2.shape = (7, 1)\n",
      "hu2 = [[ 1.71993727e-01]\n",
      " [ 2.20668974e-03]\n",
      " [ 7.76013960e-05]\n",
      " [ 1.49675473e-06]\n",
      " [ 3.17817500e-14]\n",
      " [-7.44069092e-09]\n",
      " [-1.61309477e-11]]\n"
     ]
    }
   ],
   "source": [
    "M2 = cv2.moments(cnt2)\n",
    "hu2 = cv2.HuMoments(M2)\n",
    "print(f'hu2.shape = {hu2.shape}') #열벡터\n",
    "print(f'hu2 = {hu2}')\n"
   ]
  },
  {
   "cell_type": "code",
   "execution_count": 24,
   "metadata": {},
   "outputs": [
    {
     "name": "stdout",
     "output_type": "stream",
     "text": [
      "diffsum1 = 0.0003215707378081359\n"
     ]
    }
   ],
   "source": [
    "diffsum = np.sum(cv2.absdiff(hu, hu2))\n",
    "print(f'diffsum1 = {diffsum}') #차이값 출력"
   ]
  },
  {
   "cell_type": "code",
   "execution_count": null,
   "metadata": {},
   "outputs": [],
   "source": []
  },
  {
   "cell_type": "code",
   "execution_count": null,
   "metadata": {},
   "outputs": [],
   "source": []
  },
  {
   "cell_type": "code",
   "execution_count": null,
   "metadata": {},
   "outputs": [],
   "source": []
  },
  {
   "cell_type": "code",
   "execution_count": null,
   "metadata": {},
   "outputs": [],
   "source": []
  },
  {
   "cell_type": "code",
   "execution_count": null,
   "metadata": {},
   "outputs": [],
   "source": []
  },
  {
   "cell_type": "code",
   "execution_count": null,
   "metadata": {},
   "outputs": [],
   "source": []
  }
 ],
 "metadata": {
  "kernelspec": {
   "display_name": "Python 3",
   "language": "python",
   "name": "python3"
  },
  "language_info": {
   "codemirror_mode": {
    "name": "ipython",
    "version": 3
   },
   "file_extension": ".py",
   "mimetype": "text/x-python",
   "name": "python",
   "nbconvert_exporter": "python",
   "pygments_lexer": "ipython3",
   "version": "3.7.0"
  }
 },
 "nbformat": 4,
 "nbformat_minor": 2
}
