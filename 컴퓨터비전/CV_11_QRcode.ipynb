{
 "cells": [
  {
   "cell_type": "code",
   "execution_count": 1,
   "id": "eaaeab66",
   "metadata": {},
   "outputs": [],
   "source": [
    "import cv2\n",
    "import numpy as np\n",
    "import matplotlib.pyplot as plt\n",
    "import webbrowser"
   ]
  },
  {
   "cell_type": "code",
   "execution_count": 2,
   "id": "15817478",
   "metadata": {},
   "outputs": [],
   "source": [
    "inputimage = cv2.imread('./data/QRCode.png')\n",
    "qrdecoder = cv2.QRCodeDetector()\n",
    "data, bbox, _ = qrdecoder.detectAndDecode(inputimage) #바운딩박스 : bbox\n"
   ]
  },
  {
   "cell_type": "code",
   "execution_count": 4,
   "id": "db7318ad",
   "metadata": {},
   "outputs": [
    {
     "name": "stdout",
     "output_type": "stream",
     "text": [
      "decoded data : https://www.catholic.ac.kr\n"
     ]
    }
   ],
   "source": [
    "if len(data) > 0:\n",
    "    print(f\"decoded data : {data}\")\n",
    "    cv2.imshow('qr code', inputimage)\n",
    "    cv2.waitKey()\n",
    "    cv2.destroyAllWindows()\n",
    "    \n",
    "    webbrowser.open(data)\n",
    "\n",
    "else:\n",
    "    print(f\"qr code is not detected...!!!\")"
   ]
  },
  {
   "cell_type": "code",
   "execution_count": null,
   "id": "f7e35493",
   "metadata": {},
   "outputs": [],
   "source": []
  }
 ],
 "metadata": {
  "kernelspec": {
   "display_name": "Python 3 (ipykernel)",
   "language": "python",
   "name": "python3"
  },
  "language_info": {
   "codemirror_mode": {
    "name": "ipython",
    "version": 3
   },
   "file_extension": ".py",
   "mimetype": "text/x-python",
   "name": "python",
   "nbconvert_exporter": "python",
   "pygments_lexer": "ipython3",
   "version": "3.9.12"
  }
 },
 "nbformat": 4,
 "nbformat_minor": 5
}
