{
 "cells": [
  {
   "cell_type": "code",
   "execution_count": 16,
   "metadata": {},
   "outputs": [],
   "source": [
    "import cv2\n",
    "import numpy as np\n",
    "import matplotlib.pyplot as plt"
   ]
  },
  {
   "cell_type": "code",
   "execution_count": 17,
   "metadata": {},
   "outputs": [],
   "source": [
    "src = cv2.imread('./data/lane.jpg')\n",
    "cv2.imshow('lane', src)\n",
    "cv2.waitKey()\n",
    "cv2.destroyAllWindows()"
   ]
  },
  {
   "cell_type": "code",
   "execution_count": 18,
   "metadata": {},
   "outputs": [
    {
     "name": "stdout",
     "output_type": "stream",
     "text": [
      "(1280, 720)\n"
     ]
    }
   ],
   "source": [
    "cap = cv2.VideoCapture('./data/lane.mp4')\n",
    "frame_size = (int(cap.get(cv2.CAP_PROP_FRAME_WIDTH)),\n",
    "              int(cap.get(cv2.CAP_PROP_FRAME_HEIGHT)))\n",
    "print(frame_size)"
   ]
  },
  {
   "cell_type": "code",
   "execution_count": 19,
   "metadata": {},
   "outputs": [],
   "source": [
    "while True:\n",
    "    retval, frame = cap.read()\n",
    "    if not retval: break\n",
    "    cv2.imshow('frame', frame)\n",
    "    key = cv2.waitKey(25)\n",
    "    if key == 27: #esc\n",
    "        break\n",
    "if cap.isOpened():\n",
    "    cap.release()\n",
    "cv2.destroyAllWindows()\n"
   ]
  },
  {
   "cell_type": "code",
   "execution_count": 20,
   "metadata": {},
   "outputs": [],
   "source": [
    "def LaneDetection(src, roi, color = (0, 0, 255)):\n",
    "    \n",
    "    #edge detection\n",
    "    img = src.copy()\n",
    "    gray = cv2.cvtColor(img, cv2.COLOR_BGR2GRAY)\n",
    "    blur = cv2.GaussianBlur(gray, (5,5), 0) #해도 되고 안해도 됨\n",
    "    canny = cv2.Canny(blur, 50, 150) #엣지 이미지\n",
    "    \n",
    "    \n",
    "    #set ROI : ROI만큼만 남김 : 마스크만 하얀색, 나머지 까만색\n",
    "    height = canny.shape[0]\n",
    "    mask = np.zeros_like(canny)\n",
    "    cv2.fillPoly(mask, roi, 255)\n",
    "    masked_image = cv2.bitwise_and(canny, mask)\n",
    "    \n",
    "    \n",
    "    #line detection\n",
    "    lines = cv2.HoughLinesP(masked_image, rho = 1, theta = np.pi / 180.0, threshold = 100)\n",
    "    \n",
    "    \n",
    "    \n",
    "    #draw line\n",
    "    for line in lines:\n",
    "        x1, y1, x2, y2 = line[0] #시작점, 끝점\n",
    "        cv2.line(img, (x1, y1), (x2, y2), color, 2)\n",
    "        \n",
    "    return img\n",
    "        \n",
    "    \n",
    "    "
   ]
  },
  {
   "cell_type": "code",
   "execution_count": 25,
   "metadata": {},
   "outputs": [
    {
     "name": "stdout",
     "output_type": "stream",
     "text": [
      "(1280, 720)\n"
     ]
    },
    {
     "data": {
      "text/plain": [
       "(1, 3, 2)"
      ]
     },
     "execution_count": 25,
     "metadata": {},
     "output_type": "execute_result"
    }
   ],
   "source": [
    "cap = cv2.VideoCapture('./data/lane.mp4')\n",
    "frame_size = (int(cap.get(cv2.CAP_PROP_FRAME_WIDTH)),\n",
    "              int(cap.get(cv2.CAP_PROP_FRAME_HEIGHT)))\n",
    "print(frame_size)\n",
    "\n",
    "height = 720\n",
    "roi = np.array([[(200, height), (1100, height), (550, 250)]])\n",
    "roi.shape\n",
    "\n",
    "\n"
   ]
  },
  {
   "cell_type": "code",
   "execution_count": 26,
   "metadata": {},
   "outputs": [],
   "source": [
    "while True:\n",
    "    retval, frame = cap.read()\n",
    "    if not retval: break\n",
    "        \n",
    "    #lane detection\n",
    "    lane = frame.copy()\n",
    "    line_image = LaneDetection(lane, roi, color = (255, 255, 0))\n",
    "    cv2.imshow('lane', line_image)\n",
    "    \n",
    "    \n",
    "    key = cv2.waitKey(25)\n",
    "    if key == 27: #esc\n",
    "        break\n",
    "if cap.isOpened():\n",
    "    cap.release()\n",
    "cv2.destroyAllWindows()"
   ]
  },
  {
   "cell_type": "code",
   "execution_count": null,
   "metadata": {},
   "outputs": [],
   "source": []
  }
 ],
 "metadata": {
  "kernelspec": {
   "display_name": "Python 3",
   "language": "python",
   "name": "python3"
  },
  "language_info": {
   "codemirror_mode": {
    "name": "ipython",
    "version": 3
   },
   "file_extension": ".py",
   "mimetype": "text/x-python",
   "name": "python",
   "nbconvert_exporter": "python",
   "pygments_lexer": "ipython3",
   "version": "3.7.0"
  }
 },
 "nbformat": 4,
 "nbformat_minor": 2
}
