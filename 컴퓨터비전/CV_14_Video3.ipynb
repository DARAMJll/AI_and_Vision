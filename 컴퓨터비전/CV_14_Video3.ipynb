{
 "cells": [
  {
   "cell_type": "code",
   "execution_count": 1,
   "metadata": {},
   "outputs": [],
   "source": [
    "#현재의 평균값\n",
    "import cv2\n",
    "import numpy as np\n",
    "import matplotlib.pyplot as plt"
   ]
  },
  {
   "cell_type": "code",
   "execution_count": 2,
   "metadata": {},
   "outputs": [],
   "source": [
    "cap = cv2.VideoCapture('./data/vtest.avi')\n",
    "if not cap.isOpened():\n",
    "    print('Error~')\n",
    "    \n",
    "height, width = (int(cap.get(cv2.CAP_PROP_FRAME_HEIGHT)), int(cap.get(cv2.CAP_PROP_FRAME_WIDTH)))"
   ]
  },
  {
   "cell_type": "code",
   "execution_count": 3,
   "metadata": {},
   "outputs": [],
   "source": [
    "TH = 80 #밝기값 임계값\n",
    "AREA_TH = 100\n",
    "mode = cv2.RETR_EXTERNAL\n",
    "method = cv2.CHAIN_APPROX_SIMPLE\n",
    "\n",
    "acc_bgr = np.zeros(shape=(height, width, 3), dtype = np.float32)\n"
   ]
  },
  {
   "cell_type": "code",
   "execution_count": 7,
   "metadata": {},
   "outputs": [
    {
     "ename": "error",
     "evalue": "OpenCV(4.2.0) C:\\projects\\opencv-python\\opencv\\modules\\core\\src\\arithm.cpp:693: error: (-5:Bad argument) When the input arrays in add/subtract/multiply/divide functions have different types, the output array type must be explicitly specified in function 'cv::arithm_op'\n",
     "output_type": "error",
     "traceback": [
      "\u001b[1;31m---------------------------------------------------------------------------\u001b[0m",
      "\u001b[1;31merror\u001b[0m                                     Traceback (most recent call last)",
      "\u001b[1;32m<ipython-input-7-ee2ca5054c3a>\u001b[0m in \u001b[0;36m<module>\u001b[1;34m()\u001b[0m\n\u001b[0;32m     14\u001b[0m     \u001b[0mdiff_bgr\u001b[0m \u001b[1;33m=\u001b[0m \u001b[0mnp\u001b[0m\u001b[1;33m.\u001b[0m\u001b[0muint8\u001b[0m\u001b[1;33m(\u001b[0m\u001b[0mcv2\u001b[0m\u001b[1;33m.\u001b[0m\u001b[0mabsdiff\u001b[0m\u001b[1;33m(\u001b[0m\u001b[0mnp\u001b[0m\u001b[1;33m.\u001b[0m\u001b[0mfloat32\u001b[0m\u001b[1;33m(\u001b[0m\u001b[0mblur\u001b[0m\u001b[1;33m)\u001b[0m\u001b[1;33m,\u001b[0m \u001b[0mbkg_bgr\u001b[0m\u001b[1;33m)\u001b[0m\u001b[1;33m)\u001b[0m\u001b[1;33m\u001b[0m\u001b[0m\n\u001b[0;32m     15\u001b[0m \u001b[1;33m\u001b[0m\u001b[0m\n\u001b[1;32m---> 16\u001b[1;33m     \u001b[0mdiff_bgr\u001b[0m \u001b[1;33m=\u001b[0m \u001b[0mcv2\u001b[0m\u001b[1;33m.\u001b[0m\u001b[0mabsdiff\u001b[0m\u001b[1;33m(\u001b[0m\u001b[0mframe\u001b[0m\u001b[1;33m,\u001b[0m \u001b[0mbkg_bgr\u001b[0m\u001b[1;33m)\u001b[0m \u001b[1;31m#스플릿\u001b[0m\u001b[1;33m\u001b[0m\u001b[0m\n\u001b[0m\u001b[0;32m     17\u001b[0m     \u001b[0mdb\u001b[0m\u001b[1;33m,\u001b[0m \u001b[0mdg\u001b[0m\u001b[1;33m,\u001b[0m \u001b[0mdr\u001b[0m \u001b[1;33m=\u001b[0m \u001b[0mcv2\u001b[0m\u001b[1;33m.\u001b[0m\u001b[0msplit\u001b[0m\u001b[1;33m(\u001b[0m\u001b[0mdiff_bgr\u001b[0m\u001b[1;33m)\u001b[0m \u001b[1;31m#채널별로 나눔\u001b[0m\u001b[1;33m\u001b[0m\u001b[0m\n\u001b[0;32m     18\u001b[0m     \u001b[0mret\u001b[0m\u001b[1;33m,\u001b[0m \u001b[0mbb\u001b[0m \u001b[1;33m=\u001b[0m \u001b[0mcv2\u001b[0m\u001b[1;33m.\u001b[0m\u001b[0mthreshold\u001b[0m\u001b[1;33m(\u001b[0m\u001b[0mdb\u001b[0m\u001b[1;33m,\u001b[0m \u001b[0mTH\u001b[0m\u001b[1;33m,\u001b[0m \u001b[1;36m255\u001b[0m\u001b[1;33m,\u001b[0m \u001b[0mcv2\u001b[0m\u001b[1;33m.\u001b[0m\u001b[0mTHRESH_BINARY\u001b[0m\u001b[1;33m)\u001b[0m\u001b[1;33m\u001b[0m\u001b[0m\n",
      "\u001b[1;31merror\u001b[0m: OpenCV(4.2.0) C:\\projects\\opencv-python\\opencv\\modules\\core\\src\\arithm.cpp:693: error: (-5:Bad argument) When the input arrays in add/subtract/multiply/divide functions have different types, the output array type must be explicitly specified in function 'cv::arithm_op'\n"
     ]
    }
   ],
   "source": [
    "t = 0\n",
    "while True:\n",
    "    ret, frame = cap.read()\n",
    "    if not ret:\n",
    "        break\n",
    "    t+=1\n",
    "    blur = cv2.GaussianBlur(frame, (5, 5), .0) #delete noise\n",
    "    if t < 50 : \n",
    "        cv2.accumulate(blur, acc_bgr)\n",
    "        continue\n",
    "    elif t == 50:\n",
    "        bkg_bgr = acc_bgr / t\n",
    "        \n",
    "    diff_bgr = np.uint8(cv2.absdiff(np.float32(blur), bkg_bgr))\n",
    "    \n",
    "    diff_bgr = cv2.absdiff(frame, bkg_bgr) #스플릿\n",
    "    db, dg, dr = cv2.split(diff_bgr) #채널별로 나눔\n",
    "    ret, bb = cv2.threshold(db, TH, 255, cv2.THRESH_BINARY)\n",
    "    ret, bg = cv2.threshold(dg, TH, 255, cv2.THRESH_BINARY)\n",
    "    ret, br = cv2.threshold(dr, TH, 255, cv2.THRESH_BINARY)\n",
    "    \n",
    "    bimage = cv2.bitwise_or(bb, bg) #총합\n",
    "    bimage = cv2.bitwise_or(br, bimage)\n",
    "    \n",
    "    bimage = cv2.erode(bimage, None, 5) #모폴로지 적용\n",
    "    bimage = cv2.dilate(bimage, None, 5)\n",
    "    bimage = cv2.erode(bimage, None, 7)\n",
    "    \n",
    "    cv2.imshow('bimage', bimage)\n",
    "    \n",
    "    contours, hierarcy = cv2.findContours(bimage, mode, method)\n",
    "    cv2.drawContours(frame, contours, -1, (255, 0, 0), 1)\n",
    "    for i, cnt in enumerate(contours):\n",
    "        area = cv2.contourArea(cnt)\n",
    "        if area > AREA_TH:\n",
    "            x, y, w, h = cv2.boundingRect(cnt)\n",
    "            cv2.rectangle(frame, (x, y), (x+w, x+h), (0, 0, 255), 2)\n",
    "\n",
    "    cv2.imshow('frame', frame)\n",
    "    cv2.imshow('bimage', bimage)\n",
    "    cv2.imshow('diff_bgr', diff_bgr)\n",
    "    \n",
    "if cap.isOpened():\n",
    "    cap.release()\n",
    "cv2.destroyAllWindows()"
   ]
  },
  {
   "cell_type": "code",
   "execution_count": null,
   "metadata": {},
   "outputs": [],
   "source": []
  }
 ],
 "metadata": {
  "kernelspec": {
   "display_name": "Python 3",
   "language": "python",
   "name": "python3"
  },
  "language_info": {
   "codemirror_mode": {
    "name": "ipython",
    "version": 3
   },
   "file_extension": ".py",
   "mimetype": "text/x-python",
   "name": "python",
   "nbconvert_exporter": "python",
   "pygments_lexer": "ipython3",
   "version": "3.7.0"
  }
 },
 "nbformat": 4,
 "nbformat_minor": 2
}
