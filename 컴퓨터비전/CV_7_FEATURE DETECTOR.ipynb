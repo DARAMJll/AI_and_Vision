{
 "cells": [
  {
   "cell_type": "code",
   "execution_count": 2,
   "metadata": {},
   "outputs": [],
   "source": [
    "import cv2\n",
    "import numpy as np\n"
   ]
  },
  {
   "cell_type": "markdown",
   "metadata": {},
   "source": [
    "## FastFeatureDetector"
   ]
  },
  {
   "cell_type": "code",
   "execution_count": 19,
   "metadata": {},
   "outputs": [
    {
     "name": "stdout",
     "output_type": "stream",
     "text": [
      "# of keypoint = 92\n"
     ]
    }
   ],
   "source": [
    "src = cv2.imread('./data/chessBoard.jpg') #컬러영상으로 읽음\n",
    "gray = cv2.cvtColor(src, cv2.COLOR_BGR2GRAY)\n",
    "\n",
    "#아래 두 줄이 중요\n",
    "fastF = cv2.FastFeatureDetector_create(50)\n",
    "kp = fastF.detect(gray)\n",
    "\n",
    "dst = cv2.drawKeypoints(gray, kp, None, color = (0, 0, 255))\n",
    "print(f'# of keypoint = {len(kp)}')"
   ]
  },
  {
   "cell_type": "code",
   "execution_count": 20,
   "metadata": {},
   "outputs": [],
   "source": [
    "cv2.imshow('keypoints', dst)\n",
    "cv2.waitKey()\n",
    "cv2.destroyAllWindows()\n",
    "\n",
    "#조명이 위가 밝고 아래가 어둡, 노이즈 -> 키포인트 많음"
   ]
  },
  {
   "cell_type": "markdown",
   "metadata": {},
   "source": [
    "### MSER : 블랍부분 찾음(덩어리 영역) : 세포영상"
   ]
  },
  {
   "cell_type": "code",
   "execution_count": 14,
   "metadata": {},
   "outputs": [
    {
     "name": "stdout",
     "output_type": "stream",
     "text": [
      "# of keypoint = 0\n"
     ]
    }
   ],
   "source": [
    "src = cv2.imread('./data/chessBoard.jpg') #컬러영상으로 읽음\n",
    "gray = cv2.cvtColor(src, cv2.COLOR_BGR2GRAY)\n",
    "\n",
    "#아래 두 줄이 중요\n",
    "mserF = cv2.MSER_create(10) #임계값 키우면 검출 수 줄어듦\n",
    "kp = mserF.detect(gray)\n",
    "\n",
    "dst = cv2.drawKeypoints(gray, kp, None, color = (0, 0, 255))\n",
    "print(f'# of keypoint = {len(kp)}')\n",
    "\n",
    "cv2.imshow('keypoints', dst)\n",
    "cv2.waitKey()\n",
    "cv2.destroyAllWindows()"
   ]
  },
  {
   "cell_type": "markdown",
   "metadata": {},
   "source": [
    "### SimpleBlobDetector : 까만 애들만 검출됨(default) // 반전 : SimpleBlobDetector_param() -> 중복 없이 잘 찾음"
   ]
  },
  {
   "cell_type": "code",
   "execution_count": 23,
   "metadata": {},
   "outputs": [
    {
     "name": "stdout",
     "output_type": "stream",
     "text": [
      "# of keypoint = 14\n"
     ]
    }
   ],
   "source": [
    "src = cv2.imread('./data/chessBoard.jpg') #컬러영상으로 읽음\n",
    "gray = cv2.cvtColor(src, cv2.COLOR_BGR2GRAY)\n",
    "\n",
    "#아래 두 줄이 중요\n",
    "blobF = cv2.SimpleBlobDetector_create() #임계값 키우면 검출 수 줄어듦\n",
    "kp = blobF.detect(gray)\n",
    "\n",
    "dst = cv2.drawKeypoints(gray, kp, None, color = (0, 0, 255))\n",
    "print(f'# of keypoint = {len(kp)}')\n",
    "\n",
    "cv2.imshow('keypoints', dst)\n",
    "cv2.waitKey()\n",
    "cv2.destroyAllWindows()"
   ]
  },
  {
   "cell_type": "markdown",
   "metadata": {},
   "source": [
    "### GFTTDetector (젤 많이씀0\n",
    "0"
   ]
  },
  {
   "cell_type": "code",
   "execution_count": 24,
   "metadata": {},
   "outputs": [
    {
     "name": "stdout",
     "output_type": "stream",
     "text": [
      "# of keypoint = 8\n"
     ]
    }
   ],
   "source": [
    "src = cv2.imread('./data/CornerTest.jpg') #컬러영상으로 읽음\n",
    "gray = cv2.cvtColor(src, cv2.COLOR_BGR2GRAY)\n",
    "\n",
    "#아래 두 줄이 중요\n",
    "goodF = cv2.GFTTDetector_create() #임계값 키우면 검출 수 줄어듦\n",
    "kp = goodF.detect(gray)\n",
    "\n",
    "dst = cv2.drawKeypoints(gray, kp, None, color = (0, 0, 255))\n",
    "print(f'# of keypoint = {len(kp)}')\n",
    "\n",
    "cv2.imshow('keypoints', dst)\n",
    "cv2.waitKey()\n",
    "cv2.destroyAllWindows()"
   ]
  },
  {
   "cell_type": "markdown",
   "metadata": {},
   "source": [
    "### ORB (많이 씀)"
   ]
  },
  {
   "cell_type": "code",
   "execution_count": 27,
   "metadata": {},
   "outputs": [
    {
     "name": "stdout",
     "output_type": "stream",
     "text": [
      "# of keypoint = 63\n"
     ]
    }
   ],
   "source": [
    "src = cv2.imread('./data/CornerTest.jpg') #컬러영상으로 읽음\n",
    "gray = cv2.cvtColor(src, cv2.COLOR_BGR2GRAY)\n",
    "gray = cv2.GaussianBlur(gray, (5,5), .0) #노이즈가 없는 이미지라서 굳이 가우시안 안 해도 됨\n",
    "\n",
    "#아래 두 줄이 중요\n",
    "orbF = cv2.ORB_create(scoreType = 1) #디폴트 : 해리스 #코드는 FAST\n",
    "kp = orbF.detect(gray)\n",
    "\n",
    "dst = cv2.drawKeypoints(gray, kp, None, color = (0, 0, 255))\n",
    "print(f'# of keypoint = {len(kp)}')\n",
    "\n",
    "cv2.imshow('keypoints', dst)\n",
    "cv2.waitKey()\n",
    "cv2.destroyAllWindows()"
   ]
  },
  {
   "cell_type": "markdown",
   "metadata": {},
   "source": [
    "### BRISK"
   ]
  },
  {
   "cell_type": "code",
   "execution_count": 28,
   "metadata": {},
   "outputs": [
    {
     "name": "stdout",
     "output_type": "stream",
     "text": [
      "# of keypoint = 63\n"
     ]
    }
   ],
   "source": [
    "\n",
    "src = cv2.imread('./data/CornerTest.jpg') #컬러영상으로 읽음\n",
    "gray = cv2.cvtColor(src, cv2.COLOR_BGR2GRAY)\n",
    "\n",
    "#아래 두 줄이 중요\n",
    "briskF = cv2.BRISK_create() #임계값 키우면 검출 수 줄어듦\n",
    "kp = briskF.detect(gray)\n",
    "\n",
    "dst = cv2.drawKeypoints(gray, kp, None, color = (0, 0, 255))\n",
    "print(f'# of keypoint = {len(kp)}')\n",
    "\n",
    "cv2.imshow('keypoints', dst)\n",
    "cv2.waitKey()\n",
    "cv2.destroyAllWindows()"
   ]
  },
  {
   "cell_type": "markdown",
   "metadata": {},
   "source": [
    "### KAZE (피라미드 활용)"
   ]
  },
  {
   "cell_type": "code",
   "execution_count": 29,
   "metadata": {},
   "outputs": [
    {
     "ename": "NameError",
     "evalue": "name 'kazeF' is not defined",
     "output_type": "error",
     "traceback": [
      "\u001b[1;31m---------------------------------------------------------------------------\u001b[0m",
      "\u001b[1;31mNameError\u001b[0m                                 Traceback (most recent call last)",
      "\u001b[1;32m<ipython-input-29-e5f339295185>\u001b[0m in \u001b[0;36m<module>\u001b[1;34m()\u001b[0m\n\u001b[0;32m      6\u001b[0m \u001b[1;31m#아래 두 줄이 중요\u001b[0m\u001b[1;33m\u001b[0m\u001b[1;33m\u001b[0m\u001b[0m\n\u001b[0;32m      7\u001b[0m \u001b[0mbriskF\u001b[0m \u001b[1;33m=\u001b[0m \u001b[0mcv2\u001b[0m\u001b[1;33m.\u001b[0m\u001b[0mKAZE_create\u001b[0m\u001b[1;33m(\u001b[0m\u001b[1;33m)\u001b[0m \u001b[1;31m#임계값 키우면 검출 수 줄어듦\u001b[0m\u001b[1;33m\u001b[0m\u001b[0m\n\u001b[1;32m----> 8\u001b[1;33m \u001b[0mkp\u001b[0m \u001b[1;33m=\u001b[0m \u001b[0mkazeF\u001b[0m\u001b[1;33m.\u001b[0m\u001b[0mdetect\u001b[0m\u001b[1;33m(\u001b[0m\u001b[0mgray\u001b[0m\u001b[1;33m)\u001b[0m\u001b[1;33m\u001b[0m\u001b[0m\n\u001b[0m\u001b[0;32m      9\u001b[0m \u001b[1;33m\u001b[0m\u001b[0m\n\u001b[0;32m     10\u001b[0m \u001b[0mdst\u001b[0m \u001b[1;33m=\u001b[0m \u001b[0mcv2\u001b[0m\u001b[1;33m.\u001b[0m\u001b[0mdrawKeypoints\u001b[0m\u001b[1;33m(\u001b[0m\u001b[0mgray\u001b[0m\u001b[1;33m,\u001b[0m \u001b[0mkp\u001b[0m\u001b[1;33m,\u001b[0m \u001b[1;32mNone\u001b[0m\u001b[1;33m,\u001b[0m \u001b[0mcolor\u001b[0m \u001b[1;33m=\u001b[0m \u001b[1;33m(\u001b[0m\u001b[1;36m0\u001b[0m\u001b[1;33m,\u001b[0m \u001b[1;36m0\u001b[0m\u001b[1;33m,\u001b[0m \u001b[1;36m255\u001b[0m\u001b[1;33m)\u001b[0m\u001b[1;33m)\u001b[0m\u001b[1;33m\u001b[0m\u001b[0m\n",
      "\u001b[1;31mNameError\u001b[0m: name 'kazeF' is not defined"
     ]
    }
   ],
   "source": [
    "\n",
    "src = cv2.imread('./data/CornerTest.jpg') #컬러영상으로 읽음\n",
    "gray = cv2.cvtColor(src, cv2.COLOR_BGR2GRAY)\n",
    "#가우시안 필요 없음\n",
    "\n",
    "#아래 두 줄이 중요\n",
    "briskF = cv2.KAZE_create() #임계값 키우면 검출 수 줄어듦\n",
    "kp = kazeF.detect(gray)\n",
    "\n",
    "dst = cv2.drawKeypoints(gray, kp, None, color = (0, 0, 255))\n",
    "print(f'# of keypoint = {len(kp)}')\n",
    "\n",
    "cv2.imshow('keypoints', dst)\n",
    "cv2.waitKey()\n",
    "cv2.destroyAllWindows()"
   ]
  },
  {
   "cell_type": "code",
   "execution_count": null,
   "metadata": {},
   "outputs": [],
   "source": []
  }
 ],
 "metadata": {
  "kernelspec": {
   "display_name": "Python 3",
   "language": "python",
   "name": "python3"
  },
  "language_info": {
   "codemirror_mode": {
    "name": "ipython",
    "version": 3
   },
   "file_extension": ".py",
   "mimetype": "text/x-python",
   "name": "python",
   "nbconvert_exporter": "python",
   "pygments_lexer": "ipython3",
   "version": "3.7.0"
  }
 },
 "nbformat": 4,
 "nbformat_minor": 2
}
