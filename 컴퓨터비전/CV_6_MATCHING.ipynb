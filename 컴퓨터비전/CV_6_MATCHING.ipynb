{
 "cells": [
  {
   "cell_type": "code",
   "execution_count": 1,
   "metadata": {},
   "outputs": [],
   "source": [
    "#컨투어를 구하고 hu를 구한 뒤 차이를 봄\n",
    "\n",
    "import numpy as np\n",
    "import cv2"
   ]
  },
  {
   "cell_type": "code",
   "execution_count": 2,
   "metadata": {},
   "outputs": [],
   "source": [
    "ref_src = cv2.imread('./data/refShapes.jpg')\n",
    "ref_gray = cv2.cvtColor(ref_src, cv2.COLOR_BGR2GRAY)\n",
    "ret, ref_bin = cv2.threshold(ref_gray, 0, 255, cv2.THRESH_BINARY_INV + cv2.THRESH_OTSU) #배경 색 바꾸려고 인버스함 , 쓰레숄드 0으로 한 이유 : 오쯔 사용(자동으로 계산)\n",
    "\n",
    "test_src = cv2.imread('./data/testShapes.jpg') #테스트\n",
    "test_gray = cv2.cvtColor(test_src, cv2.COLOR_BGR2GRAY)\n",
    "ret, test_bin = cv2.threshold(test_gray, 0, 255, cv2.THRESH_BINARY_INV + cv2.THRESH_OTSU)"
   ]
  },
  {
   "cell_type": "code",
   "execution_count": 3,
   "metadata": {},
   "outputs": [],
   "source": [
    "mode = cv2.RETR_EXTERNAL\n",
    "method = cv2.CHAIN_APPROX_SIMPLE\n",
    "ref_contours, _ = cv2.findContours(ref_bin, mode, method)\n",
    "test_contours, _ = cv2.findContours(test_bin, mode, method)"
   ]
  },
  {
   "cell_type": "code",
   "execution_count": 6,
   "metadata": {},
   "outputs": [],
   "source": [
    "ref_dst = ref_src.copy()\n",
    "colors = ((0, 0, 255), (0, 255, 0), (255, 0, 0))\n",
    "for i, cnt in enumerate(ref_contours):\n",
    "    cv2.drawContours(ref_dst, [cnt], 0, colors[i], 2) #컨투어 정보가 세 개\n",
    "    \n",
    "test_dst = test_src.copy()\n",
    "method = cv2.CONTOURS_MATCH_I1 #L1으로 비교(차이의 절댓값) / cf)L2 : 차이의 제곱\n",
    "for i, cnt1 in enumerate(test_contours):\n",
    "    matches = []\n",
    "    for cnt2 in ref_contours: #비교\n",
    "        ret = cv2.matchShapes(cnt1, cnt2, method, 0)\n",
    "        matches.append(ret)\n",
    "    k = np.argmin(matches) #가장 작은 거릿값의 인덱스\n",
    "    cv2.drawContours(test_dst, [cnt1], 0, colors[k], 2)\n",
    "\n"
   ]
  },
  {
   "cell_type": "code",
   "execution_count": 7,
   "metadata": {},
   "outputs": [],
   "source": [
    "cv2.imshow('ref_dst', ref_dst)\n",
    "cv2.imshow('test_dst', test_dst)\n",
    "cv2.waitKey()\n",
    "cv2.destroyAllWindows()"
   ]
  },
  {
   "cell_type": "code",
   "execution_count": null,
   "metadata": {},
   "outputs": [],
   "source": []
  }
 ],
 "metadata": {
  "kernelspec": {
   "display_name": "Python 3",
   "language": "python",
   "name": "python3"
  },
  "language_info": {
   "codemirror_mode": {
    "name": "ipython",
    "version": 3
   },
   "file_extension": ".py",
   "mimetype": "text/x-python",
   "name": "python",
   "nbconvert_exporter": "python",
   "pygments_lexer": "ipython3",
   "version": "3.7.0"
  }
 },
 "nbformat": 4,
 "nbformat_minor": 2
}
