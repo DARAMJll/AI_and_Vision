{
 "cells": [
  {
   "cell_type": "code",
   "execution_count": 1,
   "metadata": {},
   "outputs": [],
   "source": [
    "import cv2\n",
    "import numpy as np"
   ]
  },
  {
   "cell_type": "code",
   "execution_count": 7,
   "metadata": {},
   "outputs": [],
   "source": [
    "src = cv2.imread('./data/lena.jpg', cv2.IMREAD_GRAYSCALE)\n",
    "\n",
    "filter1 = cv2.GaussianBlur(src, ksize = (7, 7), sigmaX = 0) #ksize : 필터, 크기 커지면 블러 심해짐 //시그마가 0이면 커널 사이즈에 맞춰서 알아서 계산\n",
    "filter2 = cv2.GaussianBlur(src, ksize = (15, 15), sigmaX = 5.0) #시그마는 한쪽에라도 넣어야 함 // 시그마 5로 커널 만들기\n",
    "\n",
    "cv2.imshow('filter1', filter1)\n",
    "cv2.imshow('filter2', filter2)\n",
    "cv2.waitKey()\n",
    "cv2.destroyAllWindows()"
   ]
  },
  {
   "cell_type": "code",
   "execution_count": 11,
   "metadata": {},
   "outputs": [],
   "source": [
    "filter3 = cv2.bilateralFilter(src, d = -1, sigmaColor = 10, sigmaSpace = 10) #depth -1이면 원본과 똑같 \n",
    "#위는 스페이스 공간에서만 가우시안 씀(멀어질수록 weight가 줄어듦)\n",
    "#아래는 스페셜공간 + 칼라도메인(밝기값)\n",
    "\n",
    "cv2.imshow('filter2', filter2)\n",
    "cv2.imshow('filter3', filter3)\n",
    "cv2.waitKey()\n",
    "cv2.destroyAllWindows()"
   ]
  },
  {
   "cell_type": "code",
   "execution_count": 16,
   "metadata": {},
   "outputs": [],
   "source": [
    "srcn = cv2.imread('./data/lena_gray_noise.jpg', cv2.IMREAD_GRAYSCALE) #salt and pepper noise : 극단적\n",
    "\n",
    "dst1 = cv2.GaussianBlur(srcn, ksize = (7,7), sigmaX = 3.0) #뭉개짐 //노이즈와 영상을 모두 뭉갬\n",
    "dst2 = cv2.bilateralFilter(srcn, d = -1, sigmaColor = 5, sigmaSpace = 5) #바이레터럴은 엣지라고 생각한 부분을 건너뜀 -> 효과 없음 \n",
    "dst3 = cv2.medianBlur(srcn, ksize = 3) #잘됨\n",
    "#시험문제 : 결과 예측\n",
    "\n",
    "cv2.imshow('dst1', dst1)\n",
    "cv2.imshow('dst2', dst2)\n",
    "cv2.imshow('dst3', dst3)\n",
    "\n",
    "cv2.waitKey()\n",
    "cv2.destroyAllWindows()"
   ]
  },
  {
   "cell_type": "code",
   "execution_count": null,
   "metadata": {},
   "outputs": [],
   "source": []
  },
  {
   "cell_type": "code",
   "execution_count": null,
   "metadata": {},
   "outputs": [],
   "source": []
  },
  {
   "cell_type": "code",
   "execution_count": null,
   "metadata": {},
   "outputs": [],
   "source": []
  },
  {
   "cell_type": "code",
   "execution_count": null,
   "metadata": {},
   "outputs": [],
   "source": []
  },
  {
   "cell_type": "code",
   "execution_count": null,
   "metadata": {},
   "outputs": [],
   "source": []
  }
 ],
 "metadata": {
  "kernelspec": {
   "display_name": "Python 3",
   "language": "python",
   "name": "python3"
  },
  "language_info": {
   "codemirror_mode": {
    "name": "ipython",
    "version": 3
   },
   "file_extension": ".py",
   "mimetype": "text/x-python",
   "name": "python",
   "nbconvert_exporter": "python",
   "pygments_lexer": "ipython3",
   "version": "3.7.0"
  }
 },
 "nbformat": 4,
 "nbformat_minor": 2
}
