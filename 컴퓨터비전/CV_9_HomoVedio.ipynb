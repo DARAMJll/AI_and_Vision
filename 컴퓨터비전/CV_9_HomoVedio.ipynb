{
 "cells": [
  {
   "cell_type": "code",
   "execution_count": 1,
   "metadata": {
    "collapsed": true
   },
   "outputs": [],
   "source": [
    "import os\n",
    "import cv2\n",
    "import numpy as np\n",
    "import glob"
   ]
  },
  {
   "cell_type": "code",
   "execution_count": 6,
   "metadata": {
    "collapsed": true
   },
   "outputs": [],
   "source": [
    "if not os.path.isdir('images'): #이미지 디렉토리 없으면 만들어라\n",
    "    os.mkdir('images') #프레임별 이미지 저장 / synth : 합성된 이미지"
   ]
  },
  {
   "cell_type": "code",
   "execution_count": 19,
   "metadata": {
    "collapsed": false
   },
   "outputs": [
    {
     "ename": "SyntaxError",
     "evalue": "invalid syntax (<ipython-input-19-910cb0403fd3>, line 11)",
     "output_type": "error",
     "traceback": [
      "\u001b[0;36m  File \u001b[0;32m\"<ipython-input-19-910cb0403fd3>\"\u001b[0;36m, line \u001b[0;32m11\u001b[0m\n\u001b[0;31m    file_name = f'./images/src/src_{src_idx}.jpg' #프레임별로 번호 붙여서 저장\u001b[0m\n\u001b[0m                                                ^\u001b[0m\n\u001b[0;31mSyntaxError\u001b[0m\u001b[0;31m:\u001b[0m invalid syntax\n"
     ]
    }
   ],
   "source": [
    "# src.mp4로부터 이미지 프레임 추출\n",
    "\n",
    "src_idx = 0 #현재 프레임 저장\n",
    "\n",
    "cap1 = cv2.VideoCapture('./data/src.mp4')\n",
    "while True:\n",
    "    retval, frame = cap1.read()\n",
    "    if not retval:\n",
    "        break\n",
    "    file_name = f'./images/src/src_{src_idx:03d}.jpg' #프레임별로 번호 붙여서 저장\n",
    "    cv2.imwrite(file_name, frame)\n",
    "    src_idx += 1\n",
    "    \n",
    "if cap1.isOpened():\n",
    "    cap1.release()"
   ]
  },
  {
   "cell_type": "code",
   "execution_count": 16,
   "metadata": {
    "collapsed": false
   },
   "outputs": [
    {
     "ename": "SyntaxError",
     "evalue": "invalid syntax (<ipython-input-16-60e4db809469>, line 10)",
     "output_type": "error",
     "traceback": [
      "\u001b[0;36m  File \u001b[0;32m\"<ipython-input-16-60e4db809469>\"\u001b[0;36m, line \u001b[0;32m10\u001b[0m\n\u001b[0;31m    file_name = f'./images/dst/dst_{dst_idx:03d}.jpg' #프레임별로 번호 붙여서 저장\u001b[0m\n\u001b[0m                                                    ^\u001b[0m\n\u001b[0;31mSyntaxError\u001b[0m\u001b[0;31m:\u001b[0m invalid syntax\n"
     ]
    }
   ],
   "source": [
    "# dst.mp4로부터 이미지 프레임 추출\n",
    "# src.mp4로부터 이미지 프레임 추출\n",
    "\n",
    "dst_idx = 0 #현재 프레임 저장\n",
    "cap2 = cv2.VideoCapture('./data/dst.mp4')\n",
    "while True:\n",
    "    retval, frame = cap2.read()\n",
    "    if not retval:\n",
    "        break\n",
    "    file_name = f'./images/dst/dst_{dst_idx:03d}.jpg' #프레임별로 번호 붙여서 저장\n",
    "    cv2.imwrite(file_name, frame)\n",
    "    src_idx += 1\n",
    "    \n",
    "if cap1.isOpened():\n",
    "    cap1.release()"
   ]
  },
  {
   "cell_type": "code",
   "execution_count": 20,
   "metadata": {
    "collapsed": false
   },
   "outputs": [],
   "source": [
    "#homography 계산 및 합성\n",
    "\n",
    "pts_src = np.array([[0, 0], [1279, 0], [1279, 719], [0, 719]])\n",
    "pts_dst = np.array([[232, 100], [606, 92], [602, 352], [236, 316]]) #점 찍음\n",
    "h, status = cv2.findHomography(pts_src, pts_dst)\n",
    "\n",
    "#이미지 합성 함수\n",
    "def synthesize(im_src, im_dst):\n",
    "    im_warp = cv2.warpPerspective(im_src, h, (im_dst.shape[1], im_dst.shape[0])) #적용해서 합성\n",
    "    cv2.fillConvexPoly(im_dst, pts_dst.astype(int), (0, 0, 0), cv2.LINE_AA) #합성 / (0,0,0) : 합성 부위를 까맣게 칠함\n",
    "    return im_warp + im_dst\n"
   ]
  },
  {
   "cell_type": "code",
   "execution_count": 21,
   "metadata": {
    "collapsed": true
   },
   "outputs": [],
   "source": [
    "#프레임별 이미지 합성\n",
    "file_num = min(len(glob.glob('./images/src/src*.jpg')), len(glob.glob('images/dst/dst*.jpg')))\n",
    "\n",
    "for i in range(file_num):\n",
    "    im_src = cv2.imread('./images/src/src_' + str(i).zfill(3) + '.jpg')\n",
    "    im_dest = cv2.imread('./images/dst/dst_' + str(i).zfill(3) + '.jpg')\n",
    "    \n",
    "    im_comp = synthesize(im_src, im_dest)\n",
    "    \n",
    "    cv2.imwrite('./images/synth/synth_' + str(i).zfill(3) + '.jpg', im_comp)"
   ]
  },
  {
   "cell_type": "code",
   "execution_count": 22,
   "metadata": {
    "collapsed": false
   },
   "outputs": [
    {
     "ename": "SyntaxError",
     "evalue": "invalid syntax (<ipython-input-22-a8a4cb6bfb9f>, line 10)",
     "output_type": "error",
     "traceback": [
      "\u001b[0;36m  File \u001b[0;32m\"<ipython-input-22-a8a4cb6bfb9f>\"\u001b[0;36m, line \u001b[0;32m10\u001b[0m\n\u001b[0;31m    fn = f'./images/synth/{f}'\u001b[0m\n\u001b[0m                             ^\u001b[0m\n\u001b[0;31mSyntaxError\u001b[0m\u001b[0;31m:\u001b[0m invalid syntax\n"
     ]
    }
   ],
   "source": [
    "#최종 동영상 생성\n",
    "file_list = os.listdir('./images/synth/')\n",
    "fps = 20\n",
    "fcc = cv2.VideoWrter_fourcc('D', 'I', 'V', 'X') #코덱 지정\n",
    "width = 854\n",
    "height = 480\n",
    "out = cv2.VideoWriter('homography.avi', fcc, fps, (854, 480))\n",
    "\n",
    "for f in file_list:\n",
    "    fn = f'./images/synth/{f}'\n",
    "    img = cv2.imread(fn)\n",
    "    out.write(img)\n",
    "    \n",
    "out.release()"
   ]
  },
  {
   "cell_type": "code",
   "execution_count": null,
   "metadata": {
    "collapsed": true
   },
   "outputs": [],
   "source": []
  }
 ],
 "metadata": {
  "kernelspec": {
   "display_name": "Python [default]",
   "language": "python",
   "name": "python3"
  },
  "language_info": {
   "codemirror_mode": {
    "name": "ipython",
    "version": 3
   },
   "file_extension": ".py",
   "mimetype": "text/x-python",
   "name": "python",
   "nbconvert_exporter": "python",
   "pygments_lexer": "ipython3",
   "version": "3.5.2"
  }
 },
 "nbformat": 4,
 "nbformat_minor": 1
}
