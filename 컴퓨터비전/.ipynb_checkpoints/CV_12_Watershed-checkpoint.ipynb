{
 "cells": [
  {
   "cell_type": "code",
   "execution_count": 4,
   "metadata": {},
   "outputs": [],
   "source": [
    "import cv2\n",
    "import numpy as np\n",
    "import matplotlib.pyplot as plt\n",
    "#에러 고치기"
   ]
  },
  {
   "cell_type": "code",
   "execution_count": 5,
   "metadata": {},
   "outputs": [],
   "source": [
    "def onMouse(event, x, y, flags, param):\n",
    "    if event == cv2.EVENT_MOUSEMOVE:\n",
    "        if flags & cv2.EVENT_FLAG_LBUTTON: #마우스 눌린 채로 드래그\n",
    "            cv2.circle(param[0], (x,y), 20, (255, 255, 255), -1) #마스크\n",
    "            cv2.circle(param[1], (x,y), 20, (255, 255, 255), -1) #입력영상\n",
    "            cv2.imshow('dst', param[1])"
   ]
  },
  {
   "cell_type": "code",
   "execution_count": 6,
   "metadata": {},
   "outputs": [
    {
     "name": "stdout",
     "output_type": "stream",
     "text": [
      "len(contours) = 2\n"
     ]
    },
    {
     "ename": "error",
     "evalue": "OpenCV(4.6.0) :-1: error: (-5:Bad argument) in function 'drawContours'\n> Overload resolution failed:\n>  - image data type = 8 is not supported\n>  - Expected Ptr<cv::UMat> for argument 'image'\n",
     "output_type": "error",
     "traceback": [
      "\u001b[1;31m---------------------------------------------------------------------------\u001b[0m",
      "\u001b[1;31merror\u001b[0m                                     Traceback (most recent call last)",
      "\u001b[1;32m~\\AppData\\Local\\Temp/ipykernel_16764/1245269568.py\u001b[0m in \u001b[0;36m<module>\u001b[1;34m\u001b[0m\n\u001b[0;32m     26\u001b[0m         \u001b[0mmarkers\u001b[0m\u001b[1;33m[\u001b[0m\u001b[1;33m:\u001b[0m\u001b[1;33m,\u001b[0m\u001b[1;33m:\u001b[0m\u001b[1;33m]\u001b[0m \u001b[1;33m=\u001b[0m  \u001b[1;36m0\u001b[0m\u001b[1;33m\u001b[0m\u001b[1;33m\u001b[0m\u001b[0m\n\u001b[0;32m     27\u001b[0m         \u001b[1;32mfor\u001b[0m \u001b[0mi\u001b[0m\u001b[1;33m,\u001b[0m \u001b[0mcnt\u001b[0m \u001b[1;32min\u001b[0m \u001b[0menumerate\u001b[0m\u001b[1;33m(\u001b[0m\u001b[0mcontours\u001b[0m\u001b[1;33m)\u001b[0m\u001b[1;33m:\u001b[0m \u001b[1;31m#draw contours, set seed\u001b[0m\u001b[1;33m\u001b[0m\u001b[1;33m\u001b[0m\u001b[0m\n\u001b[1;32m---> 28\u001b[1;33m             \u001b[0mcv2\u001b[0m\u001b[1;33m.\u001b[0m\u001b[0mdrawContours\u001b[0m\u001b[1;33m(\u001b[0m\u001b[0mmarkers\u001b[0m\u001b[1;33m,\u001b[0m \u001b[1;33m[\u001b[0m\u001b[0mcnt\u001b[0m\u001b[1;33m]\u001b[0m\u001b[1;33m,\u001b[0m \u001b[1;36m0\u001b[0m\u001b[1;33m,\u001b[0m \u001b[0mi\u001b[0m\u001b[1;33m+\u001b[0m\u001b[1;36m1\u001b[0m\u001b[1;33m,\u001b[0m \u001b[1;33m-\u001b[0m\u001b[1;36m1\u001b[0m\u001b[1;33m)\u001b[0m \u001b[1;31m#save at diff markers\u001b[0m\u001b[1;33m\u001b[0m\u001b[1;33m\u001b[0m\u001b[0m\n\u001b[0m\u001b[0;32m     29\u001b[0m \u001b[1;33m\u001b[0m\u001b[0m\n\u001b[0;32m     30\u001b[0m \u001b[1;33m\u001b[0m\u001b[0m\n",
      "\u001b[1;31merror\u001b[0m: OpenCV(4.6.0) :-1: error: (-5:Bad argument) in function 'drawContours'\n> Overload resolution failed:\n>  - image data type = 8 is not supported\n>  - Expected Ptr<cv::UMat> for argument 'image'\n"
     ]
    }
   ],
   "source": [
    "src = cv2.imread('./segmentation_rsc/hand_paper.jpg')\n",
    "mask = np.zeros(shape = src.shape[:2], dtype = np.uint8)\n",
    "markers = np.zeros(shape = src.shape[:2], dtype = np.uint32)#용량이 커야 함\n",
    "dst = src.copy()\n",
    "cv2.imshow('dst', dst)\n",
    "\n",
    "mode = cv2.RETR_EXTERNAL #컨투어 찾기\n",
    "method = cv2.CHAIN_APPROX_NONE\n",
    "\n",
    "while True:\n",
    "    cv2.setMouseCallback('dst', onMouse, [mask, dst]) #파라미터가 바뀜\n",
    "    key = cv2.waitKey(30)\n",
    "    \n",
    "    if key == 0x1B: #esc\n",
    "        break;\n",
    "        \n",
    "    elif key == ord('r'): #리셋 // ord : 유니코드 반환 / chr : 문자 반환\n",
    "        mask[:,:] = 0\n",
    "        dst = src.copy()\n",
    "        cv2.imshow('dst', dst)\n",
    "        \n",
    "    elif key == ord(' '): #스페이스바 : 수행\n",
    "        #seed 설정\n",
    "        contours, hierarchy = cv2.findContours(mask, mode, method) #contour = seed\n",
    "        print(f'len(contours) = {len(contours)}')\n",
    "        markers[:,:] =  0\n",
    "        for i, cnt in enumerate(contours): #draw contours, set seed\n",
    "            cv2.drawContours(markers, [cnt], 0, i+1, -1) #save at diff markers\n",
    "            \n",
    "            \n",
    "        cv2.watershed(src, markers)\n",
    "        \n",
    "        \n",
    "        dst = src.copy()\n",
    "        dst[markers == -1] = [0, 0, 255] #-1인 곳이 경계선\n",
    "        for i in range(len(contours)):\n",
    "            r = np.random.randint(256)\n",
    "            g = np.random.randint(256)\n",
    "            b = np.random.randint(256)\n",
    "            dst[markers == i + 1] = [b, g, r]\n",
    "            dst = cv2.addWeighted(src, .5, dst, .5, 0) #블랜딩\n",
    "            cv2.imshow('dst', dst)\n",
    "            \n",
    "cv2.destroyAllWindows()"
   ]
  },
  {
   "cell_type": "code",
   "execution_count": null,
   "metadata": {},
   "outputs": [],
   "source": []
  }
 ],
 "metadata": {
  "kernelspec": {
   "display_name": "Python 3 (ipykernel)",
   "language": "python",
   "name": "python3"
  },
  "language_info": {
   "codemirror_mode": {
    "name": "ipython",
    "version": 3
   },
   "file_extension": ".py",
   "mimetype": "text/x-python",
   "name": "python",
   "nbconvert_exporter": "python",
   "pygments_lexer": "ipython3",
   "version": "3.9.7"
  }
 },
 "nbformat": 4,
 "nbformat_minor": 2
}
