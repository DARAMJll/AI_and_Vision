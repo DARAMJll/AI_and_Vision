{
 "cells": [
  {
   "cell_type": "code",
   "execution_count": 1,
   "metadata": {},
   "outputs": [],
   "source": [
    "import cv2"
   ]
  },
  {
   "cell_type": "code",
   "execution_count": 2,
   "metadata": {},
   "outputs": [],
   "source": [
    "src1 = cv2.imread('./data/stitch/stitch_image1.jpg')\n",
    "src2 = cv2.imread('./data/stitch/stitch_image2.jpg')\n",
    "src3 = cv2.imread('./data/stitch/stitch_image3.jpg')\n",
    "src4 = cv2.imread('./data/stitch/stitch_image4.jpg')\n"
   ]
  },
  {
   "cell_type": "code",
   "execution_count": 5,
   "metadata": {},
   "outputs": [],
   "source": [
    "stitcher = cv2.Stitcher_create(cv2.Stitcher_PANORAMA)\n",
    "status, dst2 = stitcher.stitch((src1, src2))\n",
    "status, dst3 = stitcher.stitch((src2, src3))\n",
    "status, dst4 = stitcher.stitch((src3, src4))\n"
   ]
  },
  {
   "cell_type": "code",
   "execution_count": 10,
   "metadata": {},
   "outputs": [],
   "source": [
    "cv2.imshow('src1', src1)\n",
    "cv2.imshow('dst2', dst2)\n",
    "cv2.imshow('dst3', dst3)\n",
    "cv2.imshow('dst4', dst4)\n",
    "\n",
    "cv2.waitKey()\n",
    "cv2.destroyAllWindows()"
   ]
  },
  {
   "cell_type": "code",
   "execution_count": 13,
   "metadata": {},
   "outputs": [
    {
     "name": "stdout",
     "output_type": "stream",
     "text": [
      "11\n"
     ]
    }
   ],
   "source": [
    "cap = cv2.VideoCapture('./data/stitch/stitch_videoInput.mp4')\n",
    "t = 0 #시간\n",
    "images = []\n",
    "STEP = 20 #프레임?\n",
    "while True:\n",
    "    t += 1\n",
    "    retval, frame = cap.read()\n",
    "    if not retval:\n",
    "        break\n",
    "    img = cv2.resize(frame, dsize = (480, 640))\n",
    "    #img = cv2.flip(img, 0) -> 상하반전\n",
    "    if t%STEP == 0:\n",
    "        images.append(img) #20프레임당 하나씩 캡처한 이미지\n",
    "    cv2.imshow('img', img)\n",
    "    key = cv2.waitKey(25)\n",
    "    if key == 27: \n",
    "        cv2.destroyAllWindows()\n",
    "        break\n",
    "if cap.isOpened():\n",
    "    cap.release()\n",
    "    \n",
    "print(len(images))\n"
   ]
  },
  {
   "cell_type": "code",
   "execution_count": null,
   "metadata": {},
   "outputs": [],
   "source": [
    "stitcher = cv2.Stitcher_create()\n",
    "status, dst = stitcher.stitch(images)\n",
    "if status == cv2.STITCHER_OK:\n",
    "    cv2.imshow('dst', dst)\n",
    "    cv2.waitKey()\n",
    "    cv2.destroyAllWindows()"
   ]
  },
  {
   "cell_type": "code",
   "execution_count": null,
   "metadata": {},
   "outputs": [],
   "source": []
  }
 ],
 "metadata": {
  "kernelspec": {
   "display_name": "Python 3 (ipykernel)",
   "language": "python",
   "name": "python3"
  },
  "language_info": {
   "codemirror_mode": {
    "name": "ipython",
    "version": 3
   },
   "file_extension": ".py",
   "mimetype": "text/x-python",
   "name": "python",
   "nbconvert_exporter": "python",
   "pygments_lexer": "ipython3",
   "version": "3.9.7"
  }
 },
 "nbformat": 4,
 "nbformat_minor": 2
}
