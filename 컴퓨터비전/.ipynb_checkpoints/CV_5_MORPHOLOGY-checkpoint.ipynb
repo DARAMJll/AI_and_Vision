{
 "cells": [
  {
   "cell_type": "code",
   "execution_count": 1,
   "metadata": {},
   "outputs": [],
   "source": [
    "import cv2\n",
    "import numpy as np"
   ]
  },
  {
   "cell_type": "code",
   "execution_count": null,
   "metadata": {},
   "outputs": [],
   "source": [
    "src = cv2.imread('./data/morphology.jpg', cv2.IMREAD_GRAYSCALE)\n",
    "kernel = cv2.getStructuringElement(shape = cv2.MORPH_RECT, ksize = (3,3)) # 커널 : 구성요소(필터 모양) // 클수록 변화 증가\n",
    "er = cv2.erode(src, kernel, iterations = 5) #깎기 // 이터레이션 : 이로드를 몇 번 할거냐\n",
    "#커널사이즈를 크게 줘도 되고 이터레이션을 자주 해도 됨\n",
    "di = cv2.dilate(src, kernel, iterations = 5) #팽창\n",
    "erodes = cv2.erode(di, kernel, iterations = 7) #다일레이션 된 결과를 이로드\n",
    "\n",
    "cv2.imshow('src', src)\n",
    "cv2.imshow('erode', er)\n",
    "cv2.imshow('dilate', di)\n",
    "cv2.imshow('dilate_erode', erodes) #문제점 : 원래 크기보다 더 깎임 //iterations를 자주 해서.. //클로즈 연산은 iter 횟수를 맞춰야 함\n",
    "cv2.waitKey()\n",
    "cv2.destroyAllWindows()"
   ]
  },
  {
   "cell_type": "code",
   "execution_count": null,
   "metadata": {},
   "outputs": [],
   "source": []
  }
 ],
 "metadata": {
  "kernelspec": {
   "display_name": "Python 3 (ipykernel)",
   "language": "python",
   "name": "python3"
  },
  "language_info": {
   "codemirror_mode": {
    "name": "ipython",
    "version": 3
   },
   "file_extension": ".py",
   "mimetype": "text/x-python",
   "name": "python",
   "nbconvert_exporter": "python",
   "pygments_lexer": "ipython3",
   "version": "3.9.7"
  }
 },
 "nbformat": 4,
 "nbformat_minor": 2
}
