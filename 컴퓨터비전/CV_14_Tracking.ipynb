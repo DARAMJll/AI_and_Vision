{
 "cells": [
  {
   "cell_type": "code",
   "execution_count": 1,
   "metadata": {},
   "outputs": [],
   "source": [
    "import cv2\n",
    "import numpy as np\n",
    "import matplotlib.pyplot as plt"
   ]
  },
  {
   "cell_type": "code",
   "execution_count": 2,
   "metadata": {
    "scrolled": false
   },
   "outputs": [
    {
     "name": "stdout",
     "output_type": "stream",
     "text": [
      "Error opening video\n"
     ]
    }
   ],
   "source": [
    "#2          \n",
    "cv2.namedWindow('tracking')\n",
    "cap = cv2.VideoCapture('./data/ball.wmv')\n",
    "if (not cap.isOpened()):\n",
    "     print('Error opening video')\n",
    "        \n",
    "height, width = (int(cap.get(cv2.CAP_PROP_FRAME_HEIGHT)), int(cap.get(cv2.CAP_PROP_FRAME_WIDTH)))\n",
    "term_crit = (cv2.TERM_CRITERIA_MAX_ITER+cv2.TERM_CRITERIA_EPS,10, 1)\n",
    "\n",
    "t = 0\n",
    "x1, y1, x2, y2 = (54, 90, 56+56, 94+56) #테니스공 바운딩박스\n",
    "init = False\n",
    "\n",
    "while True:\n",
    "    ret, frame = cap.read()\n",
    "    if not ret: \n",
    "        break\n",
    "   \n",
    "    frame2 = frame.copy()\n",
    "    hsv = cv2.cvtColor(frame, cv2.COLOR_BGR2HSV)\n",
    "    mask = cv2.inRange(hsv, (0., 60., 32.),(180., 255., 255.))\n",
    "       \n",
    "    if init==False:\n",
    "        init = True;\n",
    "        mask_roi = mask[y1:y2, x1:x2]\n",
    "        hsv_roi  =  hsv[y1:y2, x1:x2]\n",
    "        hist_roi = cv2.calcHist([hsv_roi],[0],mask_roi,[16],[0,180])\n",
    "        cv2.normalize(hist_roi,hist_roi,0,255,cv2.NORM_MINMAX)\n",
    "        track_window1 = (x1, y1, x2-x1, y2-y1) # meanShift\n",
    "\n",
    "    backP = cv2.calcBackProject([hsv],[0],hist_roi,[0,180],1)\n",
    "    backP &= mask\n",
    "    cv2.imshow('backP',backP)\n",
    "\n",
    "    #meanShift tracking\n",
    "    ret, track_window1 = cv2.meanShift(backP, track_window1, term_crit)\n",
    "    x,y,w,h = track_window1\n",
    "    cv2.rectangle(frame, (x,y), (x+w,y+h), (0,0,255),2)        \n",
    "    cv2.imshow('tracking',frame)\n",
    "    key = cv2.waitKey(25)\n",
    "    if key == 27:\n",
    "        break\n",
    "        \n",
    "if cap.isOpened(): \n",
    "    cap.release();\n",
    "cv2.destroyAllWindows()"
   ]
  },
  {
   "cell_type": "code",
   "execution_count": null,
   "metadata": {},
   "outputs": [],
   "source": []
  },
  {
   "cell_type": "code",
   "execution_count": null,
   "metadata": {},
   "outputs": [],
   "source": []
  }
 ],
 "metadata": {
  "kernelspec": {
   "display_name": "Python 3 (ipykernel)",
   "language": "python",
   "name": "python3"
  },
  "language_info": {
   "codemirror_mode": {
    "name": "ipython",
    "version": 3
   },
   "file_extension": ".py",
   "mimetype": "text/x-python",
   "name": "python",
   "nbconvert_exporter": "python",
   "pygments_lexer": "ipython3",
   "version": "3.9.7"
  }
 },
 "nbformat": 4,
 "nbformat_minor": 4
}
