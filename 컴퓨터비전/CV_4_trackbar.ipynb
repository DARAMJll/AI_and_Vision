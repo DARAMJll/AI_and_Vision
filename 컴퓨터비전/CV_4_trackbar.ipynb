{
 "cells": [
  {
   "cell_type": "code",
   "execution_count": 3,
   "metadata": {},
   "outputs": [],
   "source": [
    "import cv2\n",
    "import numpy as np"
   ]
  },
  {
   "cell_type": "code",
   "execution_count": 6,
   "metadata": {},
   "outputs": [],
   "source": [
    "def onChange(pos): #트랙바이벤트핸들러\n",
    "    global canvas\n",
    "    r = cv2.getTrackbarPos('R', 'canvas') #트랙바 위치 값 가져옴\n",
    "    g = cv2.getTrackbarPos('G', 'canvas')\n",
    "    b = cv2.getTrackbarPos('B', 'canvas')\n",
    "    \n",
    "    canvas[:] = (b, g, r)\n",
    "    cv2.imshow('canvas', canvas) #윈도우 클라이언트 영역 업데이트\n"
   ]
  },
  {
   "cell_type": "code",
   "execution_count": 8,
   "metadata": {},
   "outputs": [],
   "source": [
    "canvas = np.zeros((512,512,3), np.uint8)\n",
    "cv2.imshow('canvas', canvas)\n",
    "\n",
    "#trackbar 생성\n",
    "cv2.createTrackbar('R', 'canvas', 0, 255, onChange)\n",
    "cv2.createTrackbar('G', 'canvas', 0, 255, onChange)\n",
    "cv2.createTrackbar('B', 'canvas', 0, 255, onChange)\n",
    "\n",
    "\n",
    "#trackbar 위치 초기화\n",
    "cv2.setTrackbarPos('R', 'canvas', 0) #트랙바이름, 윈도우이름, 0으로 세팅\n",
    "cv2.setTrackbarPos('G', 'canvas', 0)\n",
    "cv2.setTrackbarPos('B', 'canvas', 0)\n",
    "\n",
    "\n",
    "cv2.waitKey()\n",
    "cv2.destroyAllWindows()"
   ]
  },
  {
   "cell_type": "code",
   "execution_count": null,
   "metadata": {},
   "outputs": [],
   "source": []
  }
 ],
 "metadata": {
  "kernelspec": {
   "display_name": "Python 3",
   "language": "python",
   "name": "python3"
  },
  "language_info": {
   "codemirror_mode": {
    "name": "ipython",
    "version": 3
   },
   "file_extension": ".py",
   "mimetype": "text/x-python",
   "name": "python",
   "nbconvert_exporter": "python",
   "pygments_lexer": "ipython3",
   "version": "3.7.0"
  }
 },
 "nbformat": 4,
 "nbformat_minor": 2
}
