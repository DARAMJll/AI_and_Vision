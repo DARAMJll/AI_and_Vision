{
 "cells": [
  {
   "cell_type": "code",
   "execution_count": 2,
   "metadata": {},
   "outputs": [],
   "source": [
    "import cv2\n",
    "import numpy as np"
   ]
  },
  {
   "cell_type": "code",
   "execution_count": 3,
   "metadata": {},
   "outputs": [],
   "source": [
    "src = cv2.imread('./data/circles.jpg') #뒤에 암것도 안 쓰면 칼라든 그레이든 무조건 칼라로 읽음\n",
    "gray = cv2.cvtColor(src, cv2.COLOR_BGR2GRAY)\n",
    "\n",
    "#오브젝트가 까만색이니 반전함\n",
    "ret, res = cv2.threshold(gray, 128, 255, cv2.THRESH_BINARY_INV) #이진값으로 바꿔줌, 맥스 255, 옵션 : 128보다 큰 애는 0, 작은 애는 255(인버스라서)\n",
    "\n",
    "cv2.imshow('src', src)\n",
    "cv2.imshow('res', res)\n",
    "cv2.waitKey()\n",
    "cv2.destroyAllWindows()"
   ]
  },
  {
   "cell_type": "code",
   "execution_count": 4,
   "metadata": {},
   "outputs": [
    {
     "name": "stdout",
     "output_type": "stream",
     "text": [
      "ret =  4\n",
      "stats =  [[     0      0    512    512 222719]\n",
      " [   308     86    125    125  12281]\n",
      " [   153    145    152    152  18152]\n",
      " [   292    338    107    107   8992]]\n",
      "centroids =  [[247.77339607 258.80937863]\n",
      " [370.         148.        ]\n",
      " [228.5        220.50534376]\n",
      " [345.00077847 390.99477313]]\n"
     ]
    }
   ],
   "source": [
    "ret, labels, stats, centroids = cv2.connectedComponentsWithStats(res) #레이블링 함수 (두종류(withstats 없는 거, 있는 거))\n",
    "#labels : 라벨이 들어간 이미지 반환\n",
    "print('ret = ', ret) #나머지 하나 : 백그라운드\n",
    "print('stats = ', stats) #바운딩박스 정보\n",
    "print('centroids = ', centroids) #각 컴포넌트의 중점"
   ]
  },
  {
   "cell_type": "code",
   "execution_count": 6,
   "metadata": {},
   "outputs": [],
   "source": [
    "#라벨 디스플레이 코드(제대로 레이블링이 됐는지)\n",
    "dst = np.zeros(src.shape, dtype = src.dtype)\n",
    "for i in range(1, int(ret)):\n",
    "    r = np.random.randint(256)\n",
    "    g = np.random.randint(256)\n",
    "    b = np.random.randint(256)\n",
    "    dst[labels == i] = [b, g, r] #각 라벨 숫자마다 랜덤 색깔 지정"
   ]
  },
  {
   "cell_type": "code",
   "execution_count": 12,
   "metadata": {},
   "outputs": [],
   "source": [
    "for i in range(1, int(ret)):\n",
    "    x, y, w, h, a = stats[i]\n",
    "    cv2.rectangle(dst, (x, y), (x + w, y + h), (0, 0, 255), 2) #컴포넌트별로 바운딩박스 그림\n",
    "    cx, cy = centroids[i]\n",
    "    cv2.circle(dst, (int(cx), int(cy)), 5, (255,0,0), -1)\n",
    "    \n",
    "    cv2.imshow('src', src)\n",
    "    cv2.imshow('dst', dst)\n",
    "    cv2.waitKey()\n",
    "    cv2.destroyAllWindows()"
   ]
  },
  {
   "cell_type": "code",
   "execution_count": null,
   "metadata": {},
   "outputs": [],
   "source": []
  }
 ],
 "metadata": {
  "kernelspec": {
   "display_name": "Python 3",
   "language": "python",
   "name": "python3"
  },
  "language_info": {
   "codemirror_mode": {
    "name": "ipython",
    "version": 3
   },
   "file_extension": ".py",
   "mimetype": "text/x-python",
   "name": "python",
   "nbconvert_exporter": "python",
   "pygments_lexer": "ipython3",
   "version": "3.7.0"
  }
 },
 "nbformat": 4,
 "nbformat_minor": 2
}
